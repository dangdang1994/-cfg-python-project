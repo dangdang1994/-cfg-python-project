{
  "nbformat": 4,
  "nbformat_minor": 0,
  "metadata": {
    "colab": {
      "name": "“Sentiment_Analysis.ipynb”的副本",
      "version": "0.3.2",
      "provenance": [],
      "collapsed_sections": [],
      "toc_visible": true,
      "include_colab_link": true
    },
    "kernelspec": {
      "name": "python3",
      "display_name": "Python 3"
    }
  },
  "cells": [
    {
      "cell_type": "markdown",
      "metadata": {
        "id": "view-in-github",
        "colab_type": "text"
      },
      "source": [
        "<a href=\"https://colab.research.google.com/github/dangdang1994/-cfg-python-project/blob/master/%E2%80%9CSentiment_Analysis_BIweek10%E2%80%9D%E7%9A%84%E5%89%AF%E6%9C%AC.ipynb\" target=\"_parent\"><img src=\"https://colab.research.google.com/assets/colab-badge.svg\" alt=\"Open In Colab\"/></a>"
      ]
    },
    {
      "metadata": {
        "id": "_81nMjVwETGv",
        "colab_type": "text"
      },
      "cell_type": "markdown",
      "source": [
        "#**Step 1:  Install Packages**\n",
        "Run the following lines, it will take few minutes to complete. "
      ]
    },
    {
      "metadata": {
        "id": "PEaBKCHSbnHo",
        "colab_type": "code",
        "outputId": "30fb0838-cb05-4faf-86f4-08cdde62de00",
        "colab": {
          "base_uri": "https://localhost:8080/",
          "height": 357
        }
      },
      "cell_type": "code",
      "source": [
        "!pip install pandas\n",
        "!pip install Tweepy\n",
        "!pip install vaderSentiment"
      ],
      "execution_count": 0,
      "outputs": [
        {
          "output_type": "stream",
          "text": [
            "Requirement already satisfied: pandas in /usr/local/lib/python3.6/dist-packages (0.24.2)\n",
            "Requirement already satisfied: numpy>=1.12.0 in /usr/local/lib/python3.6/dist-packages (from pandas) (1.16.3)\n",
            "Requirement already satisfied: pytz>=2011k in /usr/local/lib/python3.6/dist-packages (from pandas) (2018.9)\n",
            "Requirement already satisfied: python-dateutil>=2.5.0 in /usr/local/lib/python3.6/dist-packages (from pandas) (2.5.3)\n",
            "Requirement already satisfied: six>=1.5 in /usr/local/lib/python3.6/dist-packages (from python-dateutil>=2.5.0->pandas) (1.12.0)\n",
            "Requirement already satisfied: Tweepy in /usr/local/lib/python3.6/dist-packages (3.6.0)\n",
            "Requirement already satisfied: PySocks>=1.5.7 in /usr/local/lib/python3.6/dist-packages (from Tweepy) (1.6.8)\n",
            "Requirement already satisfied: requests>=2.11.1 in /usr/local/lib/python3.6/dist-packages (from Tweepy) (2.21.0)\n",
            "Requirement already satisfied: six>=1.10.0 in /usr/local/lib/python3.6/dist-packages (from Tweepy) (1.12.0)\n",
            "Requirement already satisfied: requests-oauthlib>=0.7.0 in /usr/local/lib/python3.6/dist-packages (from Tweepy) (1.2.0)\n",
            "Requirement already satisfied: idna<2.9,>=2.5 in /usr/local/lib/python3.6/dist-packages (from requests>=2.11.1->Tweepy) (2.8)\n",
            "Requirement already satisfied: certifi>=2017.4.17 in /usr/local/lib/python3.6/dist-packages (from requests>=2.11.1->Tweepy) (2019.3.9)\n",
            "Requirement already satisfied: chardet<3.1.0,>=3.0.2 in /usr/local/lib/python3.6/dist-packages (from requests>=2.11.1->Tweepy) (3.0.4)\n",
            "Requirement already satisfied: urllib3<1.25,>=1.21.1 in /usr/local/lib/python3.6/dist-packages (from requests>=2.11.1->Tweepy) (1.24.2)\n",
            "Requirement already satisfied: oauthlib>=3.0.0 in /usr/local/lib/python3.6/dist-packages (from requests-oauthlib>=0.7.0->Tweepy) (3.0.1)\n",
            "Collecting vaderSentiment\n",
            "\u001b[?25l  Downloading https://files.pythonhosted.org/packages/86/9e/c53e1fc61aac5ee490a6ac5e21b1ac04e55a7c2aba647bb8411c9aadf24e/vaderSentiment-3.2.1-py2.py3-none-any.whl (125kB)\n",
            "\u001b[K     |████████████████████████████████| 133kB 2.8MB/s \n",
            "\u001b[?25hInstalling collected packages: vaderSentiment\n",
            "Successfully installed vaderSentiment-3.2.1\n"
          ],
          "name": "stdout"
        }
      ]
    },
    {
      "metadata": {
        "id": "Fhe6BtIzFONH",
        "colab_type": "text"
      },
      "cell_type": "markdown",
      "source": [
        " Now, imports the installed packages "
      ]
    },
    {
      "metadata": {
        "id": "E0Q8SALAbypB",
        "colab_type": "code",
        "outputId": "94a64fd9-50bf-4c5b-b988-bb15b6eb4847",
        "colab": {
          "base_uri": "https://localhost:8080/",
          "height": 71
        }
      },
      "cell_type": "code",
      "source": [
        "import tweepy\n",
        "import pandas as pd\n",
        "from nltk.sentiment.vader import SentimentIntensityAnalyzer\n",
        "import numpy as np\n",
        "\n",
        "import sys\n",
        "from IPython.core.display import display, HTML\n",
        "display(HTML(\"<style>.container { width:95% !important; }</style>\"))"
      ],
      "execution_count": 0,
      "outputs": [
        {
          "output_type": "stream",
          "text": [
            "/usr/local/lib/python3.6/dist-packages/nltk/twitter/__init__.py:20: UserWarning: The twython library has not been installed. Some functionality from the twitter package will not be available.\n",
            "  warnings.warn(\"The twython library has not been installed. \"\n"
          ],
          "name": "stderr"
        },
        {
          "output_type": "display_data",
          "data": {
            "text/html": [
              "<style>.container { width:95% !important; }</style>"
            ],
            "text/plain": [
              "<IPython.core.display.HTML object>"
            ]
          },
          "metadata": {
            "tags": []
          }
        }
      ]
    },
    {
      "metadata": {
        "id": "6Yrl4sCKqnKr",
        "colab_type": "text"
      },
      "cell_type": "markdown",
      "source": [
        "# Step 2: get data ready for analysis\n",
        "\n",
        "As sentiment analysis is more based on the words to check, we use Natural Language Tool Kit which vader package provides."
      ]
    },
    {
      "metadata": {
        "id": "fgbDy_oMlziT",
        "colab_type": "code",
        "outputId": "7faa529d-0ca4-4379-d93e-b802f91a14a3",
        "colab": {
          "base_uri": "https://localhost:8080/",
          "height": 51
        }
      },
      "cell_type": "code",
      "source": [
        "import nltk\n",
        "nltk.download('vader_lexicon') # Downloads the vader lexicon package"
      ],
      "execution_count": 0,
      "outputs": [
        {
          "output_type": "stream",
          "text": [
            "[nltk_data] Downloading package vader_lexicon to /root/nltk_data...\n"
          ],
          "name": "stdout"
        },
        {
          "output_type": "execute_result",
          "data": {
            "text/plain": [
              "True"
            ]
          },
          "metadata": {
            "tags": []
          },
          "execution_count": 3
        }
      ]
    },
    {
      "metadata": {
        "id": "XofLGhXurA8G",
        "colab_type": "text"
      },
      "cell_type": "markdown",
      "source": [
        "Click on the  > arrow from the left side to open the side bar. \n",
        "\n",
        "Click on **Files**  and choose to **UPLOAD** your data. \n",
        "\n",
        "You will find file with the name of your company followed by (.npy) in the shared folder.\n",
        "\n",
        "Use the following line of code to load and use your data.\n",
        "\n",
        "\n",
        "\n",
        "\n"
      ]
    },
    {
      "metadata": {
        "id": "OHJlVZRUrBsr",
        "colab_type": "code",
        "colab": {}
      },
      "cell_type": "code",
      "source": [
        "tweets= np.load('Superdry_data.npy') # As an example here is loading data from file ITV_data.npy\n",
        "\n",
        "data = pd.DataFrame(data=[tweet for tweet in tweets], columns=['Tweets']) # pandas will get those tweets into our data frame\n",
        "pd.set_option(\"display.max_colwidth\", 1000) # This for viewing the maximum width\n",
        "\n"
      ],
      "execution_count": 0,
      "outputs": []
    },
    {
      "metadata": {
        "id": "5Tu5cwmyl90I",
        "colab_type": "code",
        "outputId": "f444b4f5-b905-4416-bae7-2fc399c06183",
        "colab": {
          "base_uri": "https://localhost:8080/",
          "height": 204
        }
      },
      "cell_type": "code",
      "source": [
        "sid = SentimentIntensityAnalyzer() # function inside the package\n",
        "\n",
        "listy = [] #Empty List which stores output data after looping\n",
        "\n",
        "for index, row in data.iterrows():\n",
        "  ss = sid.polarity_scores(row[\"Tweets\"])\n",
        "  listy.append(ss)\n",
        "  \n",
        "se = pd.Series(listy)\n",
        "data['polarity'] = se.values\n",
        "\n",
        "display(data.head()) \n",
        "\n",
        "#After running the above you will get, polarity in the tweets as shown.\n",
        "\n",
        " "
      ],
      "execution_count": 0,
      "outputs": [
        {
          "output_type": "display_data",
          "data": {
            "text/html": [
              "<div>\n",
              "<style scoped>\n",
              "    .dataframe tbody tr th:only-of-type {\n",
              "        vertical-align: middle;\n",
              "    }\n",
              "\n",
              "    .dataframe tbody tr th {\n",
              "        vertical-align: top;\n",
              "    }\n",
              "\n",
              "    .dataframe thead th {\n",
              "        text-align: right;\n",
              "    }\n",
              "</style>\n",
              "<table border=\"1\" class=\"dataframe\">\n",
              "  <thead>\n",
              "    <tr style=\"text-align: right;\">\n",
              "      <th></th>\n",
              "      <th>Tweets</th>\n",
              "      <th>polarity</th>\n",
              "    </tr>\n",
              "  </thead>\n",
              "  <tbody>\n",
              "    <tr>\n",
              "      <th>0</th>\n",
              "      <td>RT @satoosm: ※リーダーを悼んで暗チを悼んで。３枚。\\nそして故郷の海に流れつけばいい。 https://t.co/In3cAg7Zgm</td>\n",
              "      <td>{'neg': 0.0, 'neu': 1.0, 'pos': 0.0, 'compound': 0.0}</td>\n",
              "    </tr>\n",
              "    <tr>\n",
              "      <th>1</th>\n",
              "      <td>Superdry極度乾燥（しなさい）、カンボジアにまで進出してた</td>\n",
              "      <td>{'neg': 0.0, 'neu': 1.0, 'pos': 0.0, 'compound': 0.0}</td>\n",
              "    </tr>\n",
              "    <tr>\n",
              "      <th>2</th>\n",
              "      <td>RT @GMPSwintonLH: ***MISSING PERSON*** \\nLauren Lane 16 years from Little Hulton was last seen in the Kearsley area around 20:00 on 28/04. S…</td>\n",
              "      <td>{'neg': 0.0, 'neu': 1.0, 'pos': 0.0, 'compound': 0.0}</td>\n",
              "    </tr>\n",
              "    <tr>\n",
              "      <th>3</th>\n",
              "      <td>RT @Superdry: The ultimate denim duo. https://t.co/klEH0oFqrM 📷 charliefrederick_ https://t.co/AZmEnzPJOR</td>\n",
              "      <td>{'neg': 0.0, 'neu': 1.0, 'pos': 0.0, 'compound': 0.0}</td>\n",
              "    </tr>\n",
              "    <tr>\n",
              "      <th>4</th>\n",
              "      <td>Reunited with my bfd superdry family in less than 3 weeks n I couldn’t be more buzzing</td>\n",
              "      <td>{'neg': 0.222, 'neu': 0.778, 'pos': 0.0, 'compound': -0.5719}</td>\n",
              "    </tr>\n",
              "  </tbody>\n",
              "</table>\n",
              "</div>"
            ],
            "text/plain": [
              "                                                                                                                                          Tweets  \\\n",
              "0                                                                     RT @satoosm: ※リーダーを悼んで暗チを悼んで。３枚。\\nそして故郷の海に流れつけばいい。 https://t.co/In3cAg7Zgm   \n",
              "1                                                                                                               Superdry極度乾燥（しなさい）、カンボジアにまで進出してた   \n",
              "2  RT @GMPSwintonLH: ***MISSING PERSON*** \\nLauren Lane 16 years from Little Hulton was last seen in the Kearsley area around 20:00 on 28/04. S…   \n",
              "3                                      RT @Superdry: The ultimate denim duo. https://t.co/klEH0oFqrM 📷 charliefrederick_ https://t.co/AZmEnzPJOR   \n",
              "4                                                         Reunited with my bfd superdry family in less than 3 weeks n I couldn’t be more buzzing   \n",
              "\n",
              "                                                        polarity  \n",
              "0          {'neg': 0.0, 'neu': 1.0, 'pos': 0.0, 'compound': 0.0}  \n",
              "1          {'neg': 0.0, 'neu': 1.0, 'pos': 0.0, 'compound': 0.0}  \n",
              "2          {'neg': 0.0, 'neu': 1.0, 'pos': 0.0, 'compound': 0.0}  \n",
              "3          {'neg': 0.0, 'neu': 1.0, 'pos': 0.0, 'compound': 0.0}  \n",
              "4  {'neg': 0.222, 'neu': 0.778, 'pos': 0.0, 'compound': -0.5719}  "
            ]
          },
          "metadata": {
            "tags": []
          }
        }
      ]
    },
    {
      "metadata": {
        "id": "LDUmgeSzzbE0",
        "colab_type": "code",
        "colab": {}
      },
      "cell_type": "code",
      "source": [
        "neg = data.polarity.apply(lambda x: x['neg'])\n",
        "neu = data.polarity.apply(lambda x: x['neu'])\n",
        "cmp = data.polarity.apply(lambda x: x['compound']).values\n",
        "pos = data.polarity.apply(lambda x: x['pos']).values"
      ],
      "execution_count": 0,
      "outputs": []
    },
    {
      "metadata": {
        "id": "IG0Ndk1SovzD",
        "colab_type": "code",
        "outputId": "2774f0fb-46ee-42e8-a618-9c1341678e05",
        "colab": {
          "base_uri": "https://localhost:8080/",
          "height": 204
        }
      },
      "cell_type": "code",
      "source": [
        "data['cmp'] = cmp\n",
        "neg_tweets = data[data.cmp<0]\n",
        "neg_tweets.head()"
      ],
      "execution_count": 0,
      "outputs": [
        {
          "output_type": "execute_result",
          "data": {
            "text/html": [
              "<div>\n",
              "<style scoped>\n",
              "    .dataframe tbody tr th:only-of-type {\n",
              "        vertical-align: middle;\n",
              "    }\n",
              "\n",
              "    .dataframe tbody tr th {\n",
              "        vertical-align: top;\n",
              "    }\n",
              "\n",
              "    .dataframe thead th {\n",
              "        text-align: right;\n",
              "    }\n",
              "</style>\n",
              "<table border=\"1\" class=\"dataframe\">\n",
              "  <thead>\n",
              "    <tr style=\"text-align: right;\">\n",
              "      <th></th>\n",
              "      <th>Tweets</th>\n",
              "      <th>polarity</th>\n",
              "      <th>cmp</th>\n",
              "    </tr>\n",
              "  </thead>\n",
              "  <tbody>\n",
              "    <tr>\n",
              "      <th>4</th>\n",
              "      <td>Reunited with my bfd superdry family in less than 3 weeks n I couldn’t be more buzzing</td>\n",
              "      <td>{'neg': 0.222, 'neu': 0.778, 'pos': 0.0, 'compound': -0.5719}</td>\n",
              "      <td>-0.5719</td>\n",
              "    </tr>\n",
              "    <tr>\n",
              "      <th>50</th>\n",
              "      <td>@PuregymFareham Did anyonehams ina black Superdry wallet yesterday from the men's changing room? Worried I may have… https://t.co/mtuGYBgSiI</td>\n",
              "      <td>{'neg': 0.121, 'neu': 0.879, 'pos': 0.0, 'compound': -0.296}</td>\n",
              "      <td>-0.2960</td>\n",
              "    </tr>\n",
              "    <tr>\n",
              "      <th>104</th>\n",
              "      <td>Reunited with my bfd superdry family in less than 3 weeks n I couldn’t be more buzzing</td>\n",
              "      <td>{'neg': 0.222, 'neu': 0.778, 'pos': 0.0, 'compound': -0.5719}</td>\n",
              "      <td>-0.5719</td>\n",
              "    </tr>\n",
              "    <tr>\n",
              "      <th>150</th>\n",
              "      <td>@PuregymFareham Did anyonehams ina black Superdry wallet yesterday from the men's changing room? Worried I may have… https://t.co/mtuGYBgSiI</td>\n",
              "      <td>{'neg': 0.121, 'neu': 0.879, 'pos': 0.0, 'compound': -0.296}</td>\n",
              "      <td>-0.2960</td>\n",
              "    </tr>\n",
              "    <tr>\n",
              "      <th>204</th>\n",
              "      <td>Reunited with my bfd superdry family in less than 3 weeks n I couldn’t be more buzzing</td>\n",
              "      <td>{'neg': 0.222, 'neu': 0.778, 'pos': 0.0, 'compound': -0.5719}</td>\n",
              "      <td>-0.5719</td>\n",
              "    </tr>\n",
              "  </tbody>\n",
              "</table>\n",
              "</div>"
            ],
            "text/plain": [
              "                                                                                                                                           Tweets  \\\n",
              "4                                                          Reunited with my bfd superdry family in less than 3 weeks n I couldn’t be more buzzing   \n",
              "50   @PuregymFareham Did anyonehams ina black Superdry wallet yesterday from the men's changing room? Worried I may have… https://t.co/mtuGYBgSiI   \n",
              "104                                                        Reunited with my bfd superdry family in less than 3 weeks n I couldn’t be more buzzing   \n",
              "150  @PuregymFareham Did anyonehams ina black Superdry wallet yesterday from the men's changing room? Worried I may have… https://t.co/mtuGYBgSiI   \n",
              "204                                                        Reunited with my bfd superdry family in less than 3 weeks n I couldn’t be more buzzing   \n",
              "\n",
              "                                                          polarity     cmp  \n",
              "4    {'neg': 0.222, 'neu': 0.778, 'pos': 0.0, 'compound': -0.5719} -0.5719  \n",
              "50    {'neg': 0.121, 'neu': 0.879, 'pos': 0.0, 'compound': -0.296} -0.2960  \n",
              "104  {'neg': 0.222, 'neu': 0.778, 'pos': 0.0, 'compound': -0.5719} -0.5719  \n",
              "150   {'neg': 0.121, 'neu': 0.879, 'pos': 0.0, 'compound': -0.296} -0.2960  \n",
              "204  {'neg': 0.222, 'neu': 0.778, 'pos': 0.0, 'compound': -0.5719} -0.5719  "
            ]
          },
          "metadata": {
            "tags": []
          },
          "execution_count": 9
        }
      ]
    },
    {
      "metadata": {
        "id": "zo3MKEocpgAZ",
        "colab_type": "code",
        "outputId": "6db607f5-334c-4a77-e0cc-8838d289fc9b",
        "colab": {
          "base_uri": "https://localhost:8080/",
          "height": 286
        }
      },
      "cell_type": "code",
      "source": [
        "import seaborn as sns\n",
        "sns.distplot(cmp) # This for ploting distribution "
      ],
      "execution_count": 0,
      "outputs": [
        {
          "output_type": "execute_result",
          "data": {
            "text/plain": [
              "<matplotlib.axes._subplots.AxesSubplot at 0x7fdb124e4a20>"
            ]
          },
          "metadata": {
            "tags": []
          },
          "execution_count": 10
        },
        {
          "output_type": "display_data",
          "data": {
            "image/png": "[encoded data removed]",
            "text/plain": [
              "<Figure size 432x288 with 1 Axes>"
            ]
          },
          "metadata": {
            "tags": []
          }
        }
      ]
    },
    {
      "metadata": {
        "id": "uLEnnL-lpnUt",
        "colab_type": "text"
      },
      "cell_type": "markdown",
      "source": [
        "# ** Step 3: Latent Dirichlet Allocation (LDA) analysis of the data **"
      ]
    },
    {
      "metadata": {
        "id": "unrmT6F4pt4T",
        "colab_type": "code",
        "outputId": "f7b60fbe-b8b8-47d5-cdbe-60e1cfc3c21a",
        "colab": {
          "base_uri": "https://localhost:8080/",
          "height": 51
        }
      },
      "cell_type": "code",
      "source": [
        "import re\n",
        "nltk.download('stopwords')\n",
        "from nltk.corpus import stopwords"
      ],
      "execution_count": 0,
      "outputs": [
        {
          "output_type": "stream",
          "text": [
            "[nltk_data] Downloading package stopwords to /root/nltk_data...\n",
            "[nltk_data]   Unzipping corpora/stopwords.zip.\n"
          ],
          "name": "stdout"
        }
      ]
    },
    {
      "metadata": {
        "id": "WsXYVvm2q800",
        "colab_type": "code",
        "colab": {}
      },
      "cell_type": "code",
      "source": [
        "# LDA analysis of the data\n",
        "# first clean the data \n",
        "stopwords_list = set(stopwords.words('english'))\n",
        "\n",
        "def pre_process_data(raw_text):\n",
        "  #lower case all words\n",
        "  pro_text = [text.lower() for text in raw_text.split()]\n",
        "  # remove urls\n",
        "  pro_text = [x for x in pro_text if 'http' not in x]\n",
        "  \n",
        "  # remove special characters and numbers\n",
        "  pro_text = [re.sub(r\"[^a-zA-Z]+\", ' ', text) for text in pro_text]\n",
        "\n",
        "  # remove stopwords\n",
        "  pro_text = [x for x in pro_text if x not in stopwords_list]\n",
        "  \n",
        "  # remove short words < 2 characters\n",
        "  pro_text = [x for x in pro_text if len(x) > 2]\n",
        "  \n",
        "  return pro_text"
      ],
      "execution_count": 0,
      "outputs": []
    },
    {
      "metadata": {
        "id": "UMb1ZXkVpsRC",
        "colab_type": "code",
        "colab": {}
      },
      "cell_type": "code",
      "source": [
        "clean_data=[]\n",
        "for tweet in data.iloc[:,0]:\n",
        "  clean_tweet = pre_process_data(tweet)\n",
        "  if clean_tweet != '':\n",
        "    clean_data.append(clean_tweet)\n",
        "  "
      ],
      "execution_count": 0,
      "outputs": []
    },
    {
      "metadata": {
        "id": "PjEittd9r77v",
        "colab_type": "code",
        "outputId": "49cc812b-2cec-4fd6-a2be-8ae948598168",
        "colab": {
          "base_uri": "https://localhost:8080/",
          "height": 34
        }
      },
      "cell_type": "code",
      "source": [
        "clean_data[1]"
      ],
      "execution_count": 0,
      "outputs": [
        {
          "output_type": "execute_result",
          "data": {
            "text/plain": [
              "['superdry ']"
            ]
          },
          "metadata": {
            "tags": []
          },
          "execution_count": 14
        }
      ]
    },
    {
      "metadata": {
        "id": "GQE3HgzBr9Sv",
        "colab_type": "code",
        "outputId": "b04dfd02-1869-42c3-b6e4-0afb8d6a5568",
        "colab": {
          "base_uri": "https://localhost:8080/",
          "height": 34
        }
      },
      "cell_type": "code",
      "source": [
        "from gensim.corpora import Dictionary, MmCorpus\n",
        "# create dictionary of the words in the data\n",
        "\n",
        "dictionary = Dictionary(clean_data)\n",
        "print(\"Number of unique words :\",len(dictionary))\n",
        "\n",
        "\n",
        "#create bow of the data\n",
        "corpus = [dictionary.doc2bow(text) for text in clean_data]\n",
        "\n"
      ],
      "execution_count": 0,
      "outputs": [
        {
          "output_type": "stream",
          "text": [
            "Number of unique words : 191\n"
          ],
          "name": "stdout"
        }
      ]
    },
    {
      "metadata": {
        "id": "szMGR8tRtHNe",
        "colab_type": "code",
        "colab": {}
      },
      "cell_type": "code",
      "source": [
        "from gensim.models import LdaModel\n",
        "\n",
        "# create LDA model \n",
        "# first set some parameters \n",
        "NUMTOPICS=10 # define how many topics to create from the data, experiment with diffent number here and examine the effect\n",
        "NUMTERMS= 5 # define how many words to show per topic \n",
        "\n",
        "#define the model\n",
        "ldamodel = LdaModel(corpus, id2word= dictionary, num_topics= NUMTOPICS, passes=50)"
      ],
      "execution_count": 0,
      "outputs": []
    },
    {
      "metadata": {
        "id": "kJVTkJTtu8FY",
        "colab_type": "code",
        "outputId": "a48c7800-b961-4cb0-99bc-07c0d99ca7bf",
        "colab": {
          "base_uri": "https://localhost:8080/",
          "height": 187
        }
      },
      "cell_type": "code",
      "source": [
        "# examine generated topic \n",
        "for i in range(NUMTOPICS):\n",
        "    topic = ldamodel.get_topic_terms(i, NUMTERMS)\n",
        "    print([dictionary[pair[0]] for pair in topic])"
      ],
      "execution_count": 0,
      "outputs": [
        {
          "output_type": "stream",
          "text": [
            "[' superdry', 'little', ' satoosm ', 'better', 'makes']\n",
            "['women s', 'superdry', 'duo ', 'ultimate', 'charliefrederick ']\n",
            "[' superdonchan', ' mly superdry', ' percent', ' bf oosaka', ' jonghwan']\n",
            "['lauren', ' missing', 'hulton', 'seen', 'person ']\n",
            "['truter', 'superdry', ' aska ', ' asuka taznel', ' asahibeer jp']\n",
            "[' ed superdry', 'area', 'around', ' gmpswintonlh ', 'hulton']\n",
            "[' mly superdry', ' icchy ', ' max superdry', ' tomi ', ' noriradi']\n",
            "['superdry ', 'may', 'superdry', 'student', 'getting']\n",
            "['f r', 'superdry', 'herren', 'versand', 'inkl ']\n",
            "[' rt', 'superdry', ' takasimaakihide ', 'small', 'ratio']\n"
          ],
          "name": "stdout"
        }
      ]
    },
    {
      "metadata": {
        "id": "rOR0gqvHu9pt",
        "colab_type": "code",
        "outputId": "256fdf44-a64b-4e83-f83e-3fe21ae615c8",
        "colab": {
          "base_uri": "https://localhost:8080/",
          "height": 527
        }
      },
      "cell_type": "code",
      "source": [
        "!pip install pyLDAvis\n",
        "# Visualise LDA results\n",
        "import pyLDAvis.gensim\n",
        "import gensim\n",
        "pyLDAvis.enable_notebook()"
      ],
      "execution_count": 0,
      "outputs": [
        {
          "output_type": "stream",
          "text": [
            "Collecting pyLDAvis\n",
            "\u001b[?25l  Downloading https://files.pythonhosted.org/packages/a5/3a/af82e070a8a96e13217c8f362f9a73e82d61ac8fff3a2561946a97f96266/pyLDAvis-2.1.2.tar.gz (1.6MB)\n",
            "\u001b[K     |████████████████████████████████| 1.6MB 2.8MB/s \n",
            "\u001b[?25hRequirement already satisfied: wheel>=0.23.0 in /usr/local/lib/python3.6/dist-packages (from pyLDAvis) (0.33.1)\n",
            "Requirement already satisfied: numpy>=1.9.2 in /usr/local/lib/python3.6/dist-packages (from pyLDAvis) (1.16.3)\n",
            "Requirement already satisfied: scipy>=0.18.0 in /usr/local/lib/python3.6/dist-packages (from pyLDAvis) (1.2.1)\n",
            "Requirement already satisfied: pandas>=0.17.0 in /usr/local/lib/python3.6/dist-packages (from pyLDAvis) (0.24.2)\n",
            "Requirement already satisfied: joblib>=0.8.4 in /usr/local/lib/python3.6/dist-packages (from pyLDAvis) (0.12.5)\n",
            "Requirement already satisfied: jinja2>=2.7.2 in /usr/local/lib/python3.6/dist-packages (from pyLDAvis) (2.10.1)\n",
            "Requirement already satisfied: numexpr in /usr/local/lib/python3.6/dist-packages (from pyLDAvis) (2.6.9)\n",
            "Requirement already satisfied: pytest in /usr/local/lib/python3.6/dist-packages (from pyLDAvis) (3.6.4)\n",
            "Requirement already satisfied: future in /usr/local/lib/python3.6/dist-packages (from pyLDAvis) (0.16.0)\n",
            "Collecting funcy (from pyLDAvis)\n",
            "  Downloading https://files.pythonhosted.org/packages/b3/23/d1f90f4e2af5f9d4921ab3797e33cf0503e3f130dd390a812f3bf59ce9ea/funcy-1.12-py2.py3-none-any.whl\n",
            "Requirement already satisfied: python-dateutil>=2.5.0 in /usr/local/lib/python3.6/dist-packages (from pandas>=0.17.0->pyLDAvis) (2.5.3)\n",
            "Requirement already satisfied: pytz>=2011k in /usr/local/lib/python3.6/dist-packages (from pandas>=0.17.0->pyLDAvis) (2018.9)\n",
            "Requirement already satisfied: MarkupSafe>=0.23 in /usr/local/lib/python3.6/dist-packages (from jinja2>=2.7.2->pyLDAvis) (1.1.1)\n",
            "Requirement already satisfied: six>=1.10.0 in /usr/local/lib/python3.6/dist-packages (from pytest->pyLDAvis) (1.12.0)\n",
            "Requirement already satisfied: more-itertools>=4.0.0 in /usr/local/lib/python3.6/dist-packages (from pytest->pyLDAvis) (7.0.0)\n",
            "Requirement already satisfied: pluggy<0.8,>=0.5 in /usr/local/lib/python3.6/dist-packages (from pytest->pyLDAvis) (0.7.1)\n",
            "Requirement already satisfied: attrs>=17.4.0 in /usr/local/lib/python3.6/dist-packages (from pytest->pyLDAvis) (19.1.0)\n",
            "Requirement already satisfied: setuptools in /usr/local/lib/python3.6/dist-packages (from pytest->pyLDAvis) (41.0.1)\n",
            "Requirement already satisfied: py>=1.5.0 in /usr/local/lib/python3.6/dist-packages (from pytest->pyLDAvis) (1.8.0)\n",
            "Requirement already satisfied: atomicwrites>=1.0 in /usr/local/lib/python3.6/dist-packages (from pytest->pyLDAvis) (1.3.0)\n",
            "Building wheels for collected packages: pyLDAvis\n",
            "  Building wheel for pyLDAvis (setup.py) ... \u001b[?25l\u001b[?25hdone\n",
            "  Stored in directory: /root/.cache/pip/wheels/98/71/24/513a99e58bb6b8465bae4d2d5e9dba8f0bef8179e3051ac414\n",
            "Successfully built pyLDAvis\n",
            "Installing collected packages: funcy, pyLDAvis\n",
            "Successfully installed funcy-1.12 pyLDAvis-2.1.2\n"
          ],
          "name": "stdout"
        }
      ]
    },
    {
      "metadata": {
        "id": "OjMUkHpPvUTM",
        "colab_type": "code",
        "outputId": "c45d5f1d-2c3f-4fde-c524-307343fe9375",
        "colab": {
          "base_uri": "https://localhost:8080/",
          "height": 997
        }
      },
      "cell_type": "code",
      "source": [
        "vis = pyLDAvis.gensim.prepare(ldamodel, corpus, dictionary)\n",
        "vis"
      ],
      "execution_count": 0,
      "outputs": [
        {
          "output_type": "stream",
          "text": [
            "/usr/local/lib/python3.6/dist-packages/pyLDAvis/_prepare.py:257: FutureWarning: Sorting because non-concatenation axis is not aligned. A future version\n",
            "of pandas will change to not sort by default.\n",
            "\n",
            "To accept the future behavior, pass 'sort=False'.\n",
            "\n",
            "To retain the current behavior and silence the warning, pass 'sort=True'.\n",
            "\n",
            "  return pd.concat([default_term_info] + list(topic_dfs))\n"
          ],
          "name": "stderr"
        },
        {
          "output_type": "execute_result",
          "data": {
            "text/html": [
              "\n",
              "<link rel=\"stylesheet\" type=\"text/css\" href=\"https://cdn.rawgit.com/bmabey/pyLDAvis/files/ldavis.v1.0.0.css\">\n",
              "\n",
              "\n",
              "<div id=\"ldavis_el1311405787763319922921210238\"></div>\n",
              "<script type=\"text/javascript\">\n",
              "\n",
              "var ldavis_el1311405787763319922921210238_data = {\"mdsDat\": {\"x\": [-0.45759899127536774, 0.09073194725619559, 0.06345383393162637, 0.10417577963873692, 0.11223281993797049, -0.12533064138942127, 0.06853058342533094, 0.06596632176934362, 0.033739417829435514, 0.04409892887615042], \"y\": [0.0013287162294688356, -0.15285487443136633, -0.17009011841764277, 0.2769103652891907, 0.005980556163104545, -0.015863812810158414, -0.13046039528255296, -0.09842103446035139, 0.3190140012034082, -0.03554340348310059], \"topics\": [1, 2, 3, 4, 5, 6, 7, 8, 9, 10], \"cluster\": [1, 1, 1, 1, 1, 1, 1, 1, 1, 1], \"Freq\": [57.84557342529297, 7.516901969909668, 7.451070308685303, 5.756441593170166, 5.216320514678955, 4.100113391876221, 3.75335431098938, 3.6837306022644043, 3.522416114807129, 1.1540764570236206]}, \"tinfo\": {\"Category\": [\"Default\", \"Default\", \"Default\", \"Default\", \"Default\", \"Default\", \"Default\", \"Default\", \"Default\", \"Default\", \"Default\", \"Default\", \"Default\", \"Default\", \"Default\", \"Default\", \"Default\", \"Default\", \"Default\", \"Default\", \"Default\", \"Default\", \"Default\", \"Default\", \"Default\", \"Default\", \"Default\", \"Default\", \"Default\", \"Default\", \"Topic1\", \"Topic1\", \"Topic1\", \"Topic1\", \"Topic1\", \"Topic1\", \"Topic1\", \"Topic1\", \"Topic1\", \"Topic1\", \"Topic1\", \"Topic1\", \"Topic1\", \"Topic1\", \"Topic1\", \"Topic1\", \"Topic1\", \"Topic1\", \"Topic1\", \"Topic1\", \"Topic1\", \"Topic1\", \"Topic1\", \"Topic1\", \"Topic1\", \"Topic1\", \"Topic1\", \"Topic1\", \"Topic1\", \"Topic1\", \"Topic1\", \"Topic1\", \"Topic1\", \"Topic1\", \"Topic1\", \"Topic1\", \"Topic1\", \"Topic1\", \"Topic1\", \"Topic1\", \"Topic1\", \"Topic1\", \"Topic1\", \"Topic1\", \"Topic1\", \"Topic1\", \"Topic1\", \"Topic1\", \"Topic1\", \"Topic2\", \"Topic2\", \"Topic2\", \"Topic2\", \"Topic2\", \"Topic2\", \"Topic2\", \"Topic2\", \"Topic2\", \"Topic2\", \"Topic2\", \"Topic2\", \"Topic2\", \"Topic2\", \"Topic2\", \"Topic2\", \"Topic2\", \"Topic2\", \"Topic2\", \"Topic2\", \"Topic2\", \"Topic2\", \"Topic2\", \"Topic2\", \"Topic2\", \"Topic2\", \"Topic2\", \"Topic2\", \"Topic2\", \"Topic2\", \"Topic2\", \"Topic3\", \"Topic3\", \"Topic3\", \"Topic3\", \"Topic3\", \"Topic3\", \"Topic3\", \"Topic3\", \"Topic3\", \"Topic3\", \"Topic3\", \"Topic3\", \"Topic3\", \"Topic3\", \"Topic3\", \"Topic3\", \"Topic3\", \"Topic3\", \"Topic3\", \"Topic3\", \"Topic3\", \"Topic3\", \"Topic3\", \"Topic3\", \"Topic3\", \"Topic3\", \"Topic3\", \"Topic3\", \"Topic3\", \"Topic3\", \"Topic3\", \"Topic3\", \"Topic4\", \"Topic4\", \"Topic4\", \"Topic4\", \"Topic4\", \"Topic4\", \"Topic4\", \"Topic4\", \"Topic4\", \"Topic4\", \"Topic4\", \"Topic4\", \"Topic4\", \"Topic4\", \"Topic4\", \"Topic4\", \"Topic4\", \"Topic4\", \"Topic4\", \"Topic4\", \"Topic4\", \"Topic4\", \"Topic4\", \"Topic4\", \"Topic4\", \"Topic4\", \"Topic4\", \"Topic4\", \"Topic4\", \"Topic4\", \"Topic4\", \"Topic4\", \"Topic4\", \"Topic4\", \"Topic4\", \"Topic4\", \"Topic4\", \"Topic4\", \"Topic4\", \"Topic4\", \"Topic5\", \"Topic5\", \"Topic5\", \"Topic5\", \"Topic5\", \"Topic5\", \"Topic5\", \"Topic5\", \"Topic5\", \"Topic5\", \"Topic5\", \"Topic5\", \"Topic5\", \"Topic5\", \"Topic5\", \"Topic5\", \"Topic5\", \"Topic5\", \"Topic5\", \"Topic5\", \"Topic5\", \"Topic5\", \"Topic5\", \"Topic5\", \"Topic5\", \"Topic5\", \"Topic5\", \"Topic5\", \"Topic5\", \"Topic5\", \"Topic6\", \"Topic6\", \"Topic6\", \"Topic6\", \"Topic6\", \"Topic6\", \"Topic6\", \"Topic6\", \"Topic6\", \"Topic6\", \"Topic6\", \"Topic6\", \"Topic6\", \"Topic6\", \"Topic6\", \"Topic6\", \"Topic6\", \"Topic6\", \"Topic6\", \"Topic6\", \"Topic6\", \"Topic6\", \"Topic6\", \"Topic6\", \"Topic6\", \"Topic6\", \"Topic6\", \"Topic6\", \"Topic6\", \"Topic6\", \"Topic6\", \"Topic6\", \"Topic6\", \"Topic6\", \"Topic6\", \"Topic6\", \"Topic6\", \"Topic6\", \"Topic6\", \"Topic6\", \"Topic6\", \"Topic7\", \"Topic7\", \"Topic7\", \"Topic7\", \"Topic7\", \"Topic7\", \"Topic7\", \"Topic7\", \"Topic7\", \"Topic7\", \"Topic7\", \"Topic7\", \"Topic7\", \"Topic7\", \"Topic7\", \"Topic7\", \"Topic7\", \"Topic7\", \"Topic7\", \"Topic7\", \"Topic7\", \"Topic7\", \"Topic7\", \"Topic7\", \"Topic7\", \"Topic7\", \"Topic7\", \"Topic7\", \"Topic7\", \"Topic7\", \"Topic7\", \"Topic7\", \"Topic7\", \"Topic7\", \"Topic7\", \"Topic7\", \"Topic7\", \"Topic7\", \"Topic7\", \"Topic7\", \"Topic7\", \"Topic8\", \"Topic8\", \"Topic8\", \"Topic8\", \"Topic8\", \"Topic8\", \"Topic8\", \"Topic8\", \"Topic8\", \"Topic8\", \"Topic8\", \"Topic8\", \"Topic8\", \"Topic8\", \"Topic8\", \"Topic8\", \"Topic8\", \"Topic8\", \"Topic8\", \"Topic8\", \"Topic8\", \"Topic8\", \"Topic8\", \"Topic8\", \"Topic8\", \"Topic8\", \"Topic8\", \"Topic8\", \"Topic8\", \"Topic8\", \"Topic8\", \"Topic8\", \"Topic8\", \"Topic8\", \"Topic8\", \"Topic8\", \"Topic8\", \"Topic8\", \"Topic8\", \"Topic8\", \"Topic9\", \"Topic9\", \"Topic9\", \"Topic9\", \"Topic9\", \"Topic9\", \"Topic9\", \"Topic9\", \"Topic9\", \"Topic9\", \"Topic9\", \"Topic9\", \"Topic9\", \"Topic9\", \"Topic9\", \"Topic9\", \"Topic9\", \"Topic9\", \"Topic9\", \"Topic9\", \"Topic9\", \"Topic9\", \"Topic9\", \"Topic9\", \"Topic9\", \"Topic9\", \"Topic9\", \"Topic9\", \"Topic9\", \"Topic9\", \"Topic9\", \"Topic9\", \"Topic9\", \"Topic9\", \"Topic9\", \"Topic9\", \"Topic9\", \"Topic9\", \"Topic9\", \"Topic9\", \"Topic9\", \"Topic9\", \"Topic9\", \"Topic10\", \"Topic10\", \"Topic10\", \"Topic10\", \"Topic10\", \"Topic10\", \"Topic10\", \"Topic10\", \"Topic10\", \"Topic10\", \"Topic10\", \"Topic10\", \"Topic10\", \"Topic10\", \"Topic10\", \"Topic10\", \"Topic10\", \"Topic10\", \"Topic10\", \"Topic10\", \"Topic10\", \"Topic10\", \"Topic10\", \"Topic10\", \"Topic10\", \"Topic10\", \"Topic10\", \"Topic10\", \"Topic10\", \"Topic10\", \"Topic10\", \"Topic10\", \"Topic10\", \"Topic10\", \"Topic10\", \"Topic10\", \"Topic10\", \"Topic10\", \"Topic10\", \"Topic10\", \"Topic10\", \"Topic10\", \"Topic10\", \"Topic10\", \"Topic10\", \"Topic10\", \"Topic10\", \"Topic10\", \"Topic10\", \"Topic10\", \"Topic10\", \"Topic10\", \"Topic10\", \"Topic10\", \"Topic10\", \"Topic10\", \"Topic10\", \"Topic10\", \"Topic10\", \"Topic10\", \"Topic10\", \"Topic10\", \"Topic10\", \"Topic10\"], \"Freq\": [375.0, 102.0, 70.0, 89.0, 145.0, 37.0, 363.0, 363.0, 363.0, 363.0, 363.0, 363.0, 363.0, 363.0, 363.0, 363.0, 363.0, 363.0, 43.0, 44.0, 52.0, 43.0, 29.0, 29.0, 29.0, 33.0, 33.0, 34.0, 37.0, 27.0, 362.0683288574219, 362.0683288574219, 362.0683288574219, 362.0683288574219, 362.0683288574219, 362.0683288574219, 362.0682373046875, 362.0682373046875, 362.0683288574219, 362.06805419921875, 362.06829833984375, 362.0682373046875, 362.0678405761719, 0.09426435828208923, 0.09427513927221298, 0.09427513927221298, 0.09427513927221298, 0.09426435828208923, 0.09426435828208923, 0.09426435828208923, 0.09426435828208923, 0.09426435828208923, 0.09426435828208923, 0.09426435828208923, 0.09426616877317429, 0.09426616877317429, 0.09426435828208923, 0.09426435828208923, 0.09426435828208923, 0.09426435828208923, 0.09426435828208923, 0.09426435828208923, 0.09426435828208923, 0.09426435828208923, 0.09426435828208923, 0.09427513927221298, 0.09427334368228912, 0.09427334368228912, 0.09427031129598618, 0.09426984190940857, 0.09426984935998917, 0.09426982700824738, 0.09426982700824738, 0.09426986426115036, 0.09426984935998917, 0.09426984935998917, 0.09426983445882797, 0.09426984935998917, 0.09426986426115036, 42.14999771118164, 36.1429443359375, 24.128665924072266, 24.128665924072266, 24.128665924072266, 24.128665924072266, 24.128665924072266, 24.128665924072266, 24.128665924072266, 24.128665924072266, 24.128665924072266, 12.11440372467041, 12.11440372467041, 12.11440372467041, 12.11440372467041, 12.11440372467041, 12.11440372467041, 12.11440372467041, 12.114392280578613, 12.114398002624512, 12.114398002624512, 12.114398002624512, 12.114398002624512, 12.114398002624512, 12.114398002624512, 12.114398002624512, 12.114398002624512, 12.114398002624512, 12.114398002624512, 12.114398002624512, 36.14287567138672, 24.153738021850586, 24.153738021850586, 24.153738021850586, 24.153738021850586, 24.153728485107422, 24.153728485107422, 24.153728485107422, 24.153728485107422, 24.153728485107422, 24.153728485107422, 24.153728485107422, 24.153728485107422, 24.153728485107422, 24.153728485107422, 12.126982688903809, 12.126978874206543, 12.126978874206543, 12.126978874206543, 12.126978874206543, 12.126978874206543, 12.126978874206543, 12.126978874206543, 12.126978874206543, 12.126978874206543, 12.126972198486328, 12.126972198486328, 12.126977920532227, 12.126975059509277, 12.126975059509277, 12.126975059509277, 24.153905868530273, 24.153867721557617, 43.223812103271484, 32.440330505371094, 32.440330505371094, 21.656841278076172, 21.656841278076172, 21.656841278076172, 21.656841278076172, 10.873357772827148, 10.87335205078125, 10.87335205078125, 10.87335205078125, 10.873350143432617, 10.87335205078125, 10.87335205078125, 10.87335205078125, 10.873351097106934, 10.873351097106934, 10.873345375061035, 5.481609344482422, 64.79143524169922, 54.00811004638672, 16.263946533203125, 0.08986593782901764, 0.08986251056194305, 0.08986251056194305, 0.08986251056194305, 0.08986251056194305, 0.08986251056194305, 0.08986251056194305, 0.08986251056194305, 0.08986251056194305, 0.08986251056194305, 0.08986745774745941, 0.08986744284629822, 0.08986744284629822, 0.08986733108758926, 0.08986736834049225, 0.0898672491312027, 0.08986726403236389, 0.08986711502075195, 25.467039108276367, 12.786368370056152, 12.786368370056152, 12.786360740661621, 12.786360740661621, 12.786360740661621, 12.786360740661621, 12.786360740661621, 12.786360740661621, 12.786360740661621, 12.786360740661621, 12.786360740661621, 12.786360740661621, 12.786360740661621, 12.786360740661621, 12.78636646270752, 12.78636646270752, 12.786355972290039, 12.786355972290039, 12.786355972290039, 12.786355972290039, 12.786355972290039, 12.786355972290039, 12.786355972290039, 12.786355972290039, 12.786355972290039, 12.786355972290039, 12.786355972290039, 25.466585159301758, 12.785415649414062, 12.695876121520996, 12.695870399475098, 12.695870399475098, 12.695870399475098, 12.695870399475098, 12.695870399475098, 12.695870399475098, 12.695870399475098, 12.695870399475098, 12.695870399475098, 12.695870399475098, 12.695870399475098, 12.6958646774292, 12.695866584777832, 12.695868492126465, 12.695868492126465, 12.695868492126465, 12.695868492126465, 12.695868492126465, 12.695862770080566, 12.695850372314453, 25.286943435668945, 12.695830345153809, 12.696256637573242, 0.10492660105228424, 0.10492860525846481, 0.10492660105228424, 0.10492459684610367, 0.10492459684610367, 0.10492459684610367, 0.10492459684610367, 0.10492459684610367, 0.10492459684610367, 0.10492459684610367, 0.10492459684610367, 0.10494958609342575, 0.10493259876966476, 0.10493059456348419, 0.10493059456348419, 0.10493059456348419, 0.10493059456348419, 42.70370864868164, 28.508569717407227, 28.508569717407227, 28.508569717407227, 14.313430786132812, 14.313430786132812, 14.313430786132812, 14.313430786132812, 14.313430786132812, 14.313430786132812, 14.313430786132812, 14.313430786132812, 14.313528060913086, 28.50995445251465, 0.11829283833503723, 0.11831086874008179, 0.1182950958609581, 0.1182950958609581, 0.11829283833503723, 0.11829283833503723, 0.11829283833503723, 0.11829283833503723, 0.11829283833503723, 0.11829283833503723, 0.11829283833503723, 0.11830410361289978, 0.11830410361289978, 0.11830410361289978, 0.11830410361289978, 0.11829735338687897, 0.11834431439638138, 0.11832765489816666, 0.11832761019468307, 0.11831311136484146, 0.11830636113882065, 0.11830373108386993, 0.11830350011587143, 0.11830327659845352, 0.11830151081085205, 0.11830147355794907, 0.1183013841509819, 69.7753677368164, 14.047954559326172, 14.047951698303223, 14.047951698303223, 14.047953605651855, 14.047951698303223, 14.047953605651855, 14.047953605651855, 14.047953605651855, 14.047953605651855, 14.047953605651855, 14.047953605651855, 14.047951698303223, 14.047951698303223, 14.047930717468262, 14.048548698425293, 0.11609888076782227, 0.1161184161901474, 0.1161184161901474, 0.1161184161901474, 0.11610551923513412, 0.11610551923513412, 0.11610331386327744, 0.11609888076782227, 0.11609888076782227, 0.11609888076782227, 0.11609888076782227, 0.11611738801002502, 0.1161099448800087, 0.11610331386327744, 0.11615500599145889, 0.1161528006196022, 0.11611653119325638, 0.11611635237932205, 0.11611636728048325, 0.1161162331700325, 0.11611618101596832, 0.11611611396074295, 0.11611607670783997, 0.11611596494913101, 26.149158477783203, 20.936708450317383, 20.93670082092285, 20.93668556213379, 10.511800765991211, 10.511792182922363, 10.511792182922363, 10.511792182922363, 10.511792182922363, 10.511789321899414, 10.511784553527832, 10.511773109436035, 10.511773109436035, 10.511773109436035, 20.936729431152344, 46.998207092285156, 10.511971473693848, 0.08687440305948257, 0.08687605708837509, 0.08687440305948257, 0.08687440305948257, 0.08687440305948257, 0.08687440305948257, 0.08687440305948257, 0.08687440305948257, 0.08687440305948257, 0.08687440305948257, 0.08687440305948257, 0.08687440305948257, 0.08687538653612137, 0.08688779920339584, 0.08688509464263916, 0.08688101917505264, 0.08687936514616013, 0.08687770366668701, 0.08687770366668701, 0.08687770366668701, 0.08687770366668701, 0.08687770366668701, 0.08687770366668701, 0.08687605708837509, 0.08687605708837509, 0.08687605708837509, 36.66299057006836, 0.3030000627040863, 0.30301737785339355, 0.30300581455230713, 0.30300581455230713, 0.30300581455230713, 0.3030000925064087, 0.3030000925064087, 0.3030000925064087, 0.3030000329017639, 0.3030000329017639, 0.3030000627040863, 0.30300581455230713, 0.30300581455230713, 0.3030001223087311, 0.3030000627040863, 0.3030000627040863, 0.3030000627040863, 0.3030000329017639, 0.3030000329017639, 0.3030000627040863, 0.3030000329017639, 0.3030000329017639, 0.3030455708503723, 0.3030455708503723, 0.30301105976104736, 0.3030110001564026, 0.3030109107494354, 0.30301088094711304, 0.30301085114479065, 0.30301082134246826, 0.30301082134246826, 0.30301082134246826, 0.30302321910858154, 0.30301737785339355, 0.30301737785339355, 0.30301737785339355, 0.30360496044158936, 0.3036002218723297, 0.30359402298927307, 0.3035767078399658, 0.30357399582862854, 0.30356889963150024, 0.30356571078300476, 0.30356264114379883, 0.30356135964393616, 0.30355069041252136, 0.3035399913787842, 0.3035361170768738, 0.3035295009613037, 0.3030951917171478, 0.30308637022972107, 0.30305200815200806, 0.30305200815200806, 0.30304622650146484, 0.30304622650146484, 0.30304622650146484, 0.30304622650146484, 0.3030431866645813, 0.3030431866645813, 0.30304330587387085, 0.30304306745529175, 0.3030429780483246, 0.3030429184436798], \"Term\": [\"little\", \" mly superdry\", \" rt\", \" superdonchan\", \"superdry\", \" ed superdry\", \"area\", \"around\", \" gmpswintonlh \", \"hulton\", \"lane\", \"lauren\", \"last\", \"years\", \"person \", \"seen\", \"kearsley\", \" missing\", \"f r\", \" percent\", \" superdry\", \"superdry \", \"versand\", \"inkl \", \"herren\", \" bf oosaka\", \" jonghwan\", \" max superdry\", \"may\", \" icchy \", \" missing\", \"seen\", \"kearsley\", \"person \", \"lauren\", \" gmpswintonlh \", \"years\", \"last\", \"hulton\", \"around\", \"lane\", \"area\", \"little\", \" logo\", \" yahoonewstopics \", \" tver web \", \" tver \", \" nazorironbot \", \" aska stagea\", \" askadaisuki\", \" ssudo \", \" r v jpbsk gaia \", \" satoruhasegawa \", \" splatoon father\", \" happychanyongday\", \" top percent \", \"bruxelles\", \" gw \", \" dx \", \"aska aska \", \" per jpn \", \"brussels\", \" m akf\", \"i m\", \"brussel \", \" always superdry\", \" papa superdry\", \" el fo\", \"superdry\", \"small\", \"fine \", \"ratio\", \"nah\", \"isnt\", \"genuinely\", \"skdnj\", \"curious\", \"rude\", \"wouldnt\", \"superdry \", \"may\", \" gt gt \", \" nd\", \" thebroadwaybrad \", \"fancy\", \"getting\", \"thursday\", \"lock\", \"register\", \"student\", \"couldn t\", \"weeks\", \"reunited\", \"less\", \"family\", \"bfd\", \"buzzing\", \" el fo\", \"changing\", \"have \", \"black\", \"yesterday\", \" puregymfareham\", \"ina\", \"men s\", \"room \", \"wallet\", \"worried\", \"anyonehams\", \"superdry\", \"charliefrederick \", \"denim\", \"duo \", \"ultimate\", \"raglan\", \"applique\", \" tops\", \"this \", \" tunicstops\", \"marl\", \"jumper\", \"grey\", \"crew\", \"found\", \" superdry \", \"ready\", \"summer\", \"possibilities \", \"latest\", \"explore\", \"endless\", \"collection\", \"brings\", \" summerornothing\", \" shoppingblogger \", \"htt \", \" kgkaoru\", \" matomame \", \" aaa \", \" aaa\", \"women s\", \"superdry\", \" percent\", \" bf oosaka\", \" jonghwan\", \" still loving you\", \" retro\", \" preview\", \" per jonari \", \" m akf\", \"aska aska \", \" gw \", \"brussel \", \" per jpn \", \"i m\", \"brussels\", \"bruxelles\", \" happychanyongday\", \" top percent \", \" dx \", \" logo\", \" superdonchan\", \" mly superdry\", \"superdry\", \" nazorironbot \", \" aska stagea\", \" askadaisuki\", \" r v jpbsk gaia \", \" satoruhasegawa \", \" ssudo \", \" tver \", \" tver web \", \" splatoon father\", \" yahoonewstopics \", \"curious\", \"wouldnt\", \"fine \", \"skdnj\", \"youre\", \"nah\", \"small\", \"ratio\", \"truter\", \" aska \", \" asuka taznel\", \"stand\", \"show\", \"see\", \"on \", \"days\", \"countdown\", \"come\", \"book\", \"appointm \", \" retailexpo \", \" d \", \"two\", \" asahibeer\", \" asahibeer jp\", \"waterfront\", \"supplied\", \"shots\", \"gets\", \"elmarie\", \"directed\", \"clothing\", \"clot \", \"akhona\", \"werner\", \"v amp a\", \"superdry\", \" superdonchan\", \" satoosm \", \" shopandtrade\", \"things\", \"music\", \"makes\", \"bit\", \"always\", \" superdrygreece\", \"better\", \" rec\", \" mysuperdry\", \" music \", \" wave \", \" papa superdry\", \"add\", \"colour\", \"pop\", \"spring\", \"wardrobe\", \" g s e qptfdu x\", \" always superdry\", \" superdry\", \" max superdry\", \"little\", \" logo\", \" splatoon father\", \" askadaisuki\", \" aska stagea\", \" nazorironbot \", \" satoruhasegawa \", \" r v jpbsk gaia \", \" ssudo \", \" tver \", \" tver web \", \" yahoonewstopics \", \"superdry \", \" superdonchan\", \"two\", \" bf oosaka\", \"stand\", \" retailexpo \", \"f r\", \"versand\", \"inkl \", \"herren\", \"modelle\", \"versch \", \"neue\", \"kapuzenpullover\", \" statt\", \"damen\", \"kapuzenpullis\", \"und\", \" superdry\", \"superdry\", \" logo\", \" ssudo \", \" satoruhasegawa \", \" r v jpbsk gaia \", \" aska stagea\", \" nazorironbot \", \" askadaisuki\", \" yahoonewstopics \", \" tver web \", \" tver \", \" splatoon father\", \"bruxelles\", \"i m\", \"brussels\", \"brussel \", \"aska aska \", \" rt\", \" noriradi\", \" icchy \", \" tomi \", \" superdonchan\", \"superdry \", \" always superdry\", \" takasimaakihide \", \"fancy\", \" thebroadwaybrad \", \"thursday\", \" rt\", \" takasimaakihide \", \"youre\", \"wouldnt\", \"small\", \"skdnj\", \"rude\", \"ratio\", \"nah\", \"isnt\", \"hope\", \"genuinely\", \"fine \", \"curious\", \" peing\", \"superdry\", \" logo\", \" yahoonewstopics \", \" tver web \", \" tver \", \" satoruhasegawa \", \" r v jpbsk gaia \", \" splatoon father\", \" aska stagea\", \" nazorironbot \", \" askadaisuki\", \" ssudo \", \" dx \", \" gw \", \" m akf\", \" superdonchan\", \" mly superdry\", \"found\", \"jumper\", \"crew\", \"applique\", \"raglan\", \" tops\", \"marl\", \"grey\", \" icchy \", \" tomi \", \" noriradi\", \" sakana a ika\", \" aska stagea\", \" nazorironbot \", \" satoruhasegawa \", \" r v jpbsk gaia \", \" askadaisuki\", \" ssudo \", \" splatoon father\", \" yahoonewstopics \", \" tver \", \" tver web \", \" max superdry\", \" mly superdry\", \" superdonchan\", \" logo\", \" per jpn \", \" m akf\", \"aska aska \", \" gw \", \" happychanyongday\", \"brussel \", \" top percent \", \"i m\", \"bruxelles\", \"brussels\", \" dx \", \"erin\", \"superdry \", \" peing\", \" bf oosaka\", \" percent\", \" jonghwan\", \" wave \", \" retro\", \" still loving you\", \" per jonari \", \" preview\", \" asahibeer jp\", \" asahibeer\", \" matomame \", \" ed superdry\", \" logo\", \" splatoon father\", \" tver \", \" yahoonewstopics \", \" tver web \", \" aska stagea\", \" nazorironbot \", \" askadaisuki\", \" r v jpbsk gaia \", \" satoruhasegawa \", \" ssudo \", \" happychanyongday\", \" top percent \", \" m akf\", \"aska aska \", \" gw \", \" per jpn \", \"brussel \", \"brussels\", \" dx \", \"bruxelles\", \"i m\", \"espadrille\", \"erin\", \"ina\", \" puregymfareham\", \"anyonehams\", \"wallet\", \"men s\", \"have \", \"black\", \"yesterday\", \" kgkaoru\", \" matomame \", \" aaa \", \" aaa\", \"area\", \"around\", \" gmpswintonlh \", \"hulton\", \"lane\", \"little\", \"lauren\", \"last\", \"years\", \"person \", \"seen\", \"kearsley\", \" missing\", \"superdry\", \"truter\", \" jonghwan\", \" percent\", \" still loving you\", \" retro\", \" per jonari \", \" preview\", \"directed\", \"elmarie\", \"werner\", \"clothing\", \"clot \", \"akhona\"], \"Total\": [375.0, 102.0, 70.0, 89.0, 145.0, 37.0, 363.0, 363.0, 363.0, 363.0, 363.0, 363.0, 363.0, 363.0, 363.0, 363.0, 363.0, 363.0, 43.0, 44.0, 52.0, 43.0, 29.0, 29.0, 29.0, 33.0, 33.0, 34.0, 37.0, 27.0, 363.1940002441406, 363.1940002441406, 363.1940002441406, 363.19403076171875, 363.19403076171875, 363.1940612792969, 363.1939392089844, 363.1939392089844, 363.1940612792969, 363.19378662109375, 363.19403076171875, 363.1940002441406, 375.7848815917969, 6.611083030700684, 11.644270896911621, 11.644270896911621, 11.644270896911621, 11.644261360168457, 11.644259452819824, 11.644262313842773, 11.644265174865723, 11.64426326751709, 11.64426326751709, 11.64427375793457, 12.002837181091309, 12.002837181091309, 12.002837181091309, 12.002836227416992, 12.002838134765625, 12.002833366394043, 12.002835273742676, 12.002837181091309, 12.00283432006836, 12.002837181091309, 12.002837181091309, 13.810286521911621, 13.810282707214355, 13.23361587524414, 145.17494201660156, 15.15119743347168, 15.151195526123047, 15.151196479797363, 15.15119743347168, 15.15119743347168, 15.151196479797363, 15.151195526123047, 15.151195526123047, 15.151196479797363, 15.151195526123047, 43.26933670043945, 37.26219940185547, 25.247901916503906, 25.247901916503906, 25.247901916503906, 25.247901916503906, 25.247901916503906, 25.247901916503906, 25.24790382385254, 25.24790382385254, 25.24790382385254, 13.23361873626709, 13.23361873626709, 13.23361873626709, 13.23361873626709, 13.23361873626709, 13.23361873626709, 13.23361873626709, 13.23361587524414, 13.233625411987305, 13.233625411987305, 13.233625411987305, 13.233625411987305, 13.233625411987305, 13.233625411987305, 13.233625411987305, 13.233625411987305, 13.233625411987305, 13.233625411987305, 13.233625411987305, 145.17494201660156, 25.272857666015625, 25.272857666015625, 25.272857666015625, 25.272857666015625, 25.272859573364258, 25.272859573364258, 25.27286148071289, 25.27286148071289, 25.27286148071289, 25.272859573364258, 25.272859573364258, 25.27286148071289, 25.27286148071289, 25.272863388061523, 13.246094703674316, 13.246094703674316, 13.246094703674316, 13.246094703674316, 13.246094703674316, 13.246094703674316, 13.246094703674316, 13.246094703674316, 13.246094703674316, 13.246094703674316, 13.246095657348633, 13.246094703674316, 13.246110916137695, 13.246106147766113, 13.246106147766113, 13.246106147766113, 37.28717041015625, 145.17494201660156, 44.353370666503906, 33.56983947753906, 33.56987380981445, 22.786373138427734, 22.786373138427734, 22.786373138427734, 22.786373138427734, 12.00283432006836, 12.002833366394043, 12.002836227416992, 12.002837181091309, 12.002835273742676, 12.002837181091309, 12.002837181091309, 12.002837181091309, 12.002837181091309, 12.002837181091309, 12.002838134765625, 6.611083030700684, 89.02584075927734, 102.0490493774414, 145.17494201660156, 11.644261360168457, 11.644259452819824, 11.644262313842773, 11.64426326751709, 11.64426326751709, 11.644265174865723, 11.644270896911621, 11.644270896911621, 11.64427375793457, 11.644270896911621, 15.151195526123047, 15.151195526123047, 15.151195526123047, 15.151195526123047, 15.151195526123047, 15.15119743347168, 15.15119743347168, 15.151196479797363, 26.58078956604004, 13.900032997131348, 13.900031089782715, 13.900032997131348, 13.900032997131348, 13.900032997131348, 13.900032997131348, 13.900032997131348, 13.900032997131348, 13.900032997131348, 13.900032997131348, 13.900032997131348, 13.900032997131348, 13.900032997131348, 13.900032997131348, 13.900040626525879, 13.900040626525879, 13.900059700012207, 13.900060653686523, 13.900059700012207, 13.900059700012207, 13.900060653686523, 13.900060653686523, 13.900060653686523, 13.900060653686523, 13.900060653686523, 13.900060653686523, 13.900059700012207, 145.17494201660156, 89.02584075927734, 13.810284614562988, 13.810282707214355, 13.810282707214355, 13.810282707214355, 13.810282707214355, 13.810282707214355, 13.810282707214355, 13.810282707214355, 13.810282707214355, 13.810282707214355, 13.810282707214355, 13.810282707214355, 13.810280799865723, 13.810282707214355, 13.810284614562988, 13.810284614562988, 13.810284614562988, 13.810284614562988, 13.810284614562988, 13.810301780700684, 13.810286521911621, 52.623165130615234, 34.6601448059082, 375.7848815917969, 6.611083030700684, 11.64427375793457, 11.644262313842773, 11.644259452819824, 11.644261360168457, 11.64426326751709, 11.64426326751709, 11.644265174865723, 11.644270896911621, 11.644270896911621, 11.644270896911621, 43.26933670043945, 89.02584075927734, 13.900032997131348, 33.56983947753906, 13.900032997131348, 13.900032997131348, 43.804752349853516, 29.609607696533203, 29.609607696533203, 29.609607696533203, 15.414469718933105, 15.414469718933105, 15.414469718933105, 15.414469718933105, 15.414469718933105, 15.414469718933105, 15.414469718933105, 15.414469718933105, 52.623165130615234, 145.17494201660156, 6.611083030700684, 11.644265174865723, 11.64426326751709, 11.64426326751709, 11.644259452819824, 11.644261360168457, 11.644262313842773, 11.644270896911621, 11.644270896911621, 11.644270896911621, 11.64427375793457, 12.002837181091309, 12.002837181091309, 12.002837181091309, 12.002837181091309, 12.002833366394043, 70.87865447998047, 22.06920051574707, 27.28166961669922, 22.069196701049805, 89.02584075927734, 43.26933670043945, 13.810286521911621, 15.151198387145996, 25.247901916503906, 25.247901916503906, 25.247901916503906, 70.87865447998047, 15.151198387145996, 15.151195526123047, 15.151195526123047, 15.15119743347168, 15.151195526123047, 15.151196479797363, 15.151196479797363, 15.15119743347168, 15.15119743347168, 15.151196479797363, 15.151196479797363, 15.151195526123047, 15.151195526123047, 15.15120792388916, 145.17494201660156, 6.611083030700684, 11.644270896911621, 11.644270896911621, 11.644270896911621, 11.64426326751709, 11.64426326751709, 11.64427375793457, 11.644259452819824, 11.644261360168457, 11.644262313842773, 11.644265174865723, 12.002838134765625, 12.002836227416992, 12.00283432006836, 89.02584075927734, 102.0490493774414, 25.272863388061523, 25.272859573364258, 25.27286148071289, 25.272859573364258, 25.272859573364258, 25.27286148071289, 25.272859573364258, 25.27286148071289, 27.28166961669922, 22.069196701049805, 22.06920051574707, 22.06920623779297, 11.644259452819824, 11.644261360168457, 11.64426326751709, 11.64426326751709, 11.644262313842773, 11.644265174865723, 11.64427375793457, 11.644270896911621, 11.644270896911621, 11.644270896911621, 34.6601448059082, 102.0490493774414, 89.02584075927734, 6.611083030700684, 12.002835273742676, 12.00283432006836, 12.002833366394043, 12.002836227416992, 12.002837181091309, 12.002837181091309, 12.002837181091309, 12.002837181091309, 12.002837181091309, 12.002837181091309, 12.002838134765625, 13.23364543914795, 43.26933670043945, 15.15120792388916, 33.56983947753906, 44.353370666503906, 33.56987380981445, 13.810280799865723, 22.786373138427734, 22.786373138427734, 22.786373138427734, 22.786373138427734, 13.900040626525879, 13.900040626525879, 13.246106147766113, 37.57933044433594, 6.611083030700684, 11.64427375793457, 11.644270896911621, 11.644270896911621, 11.644270896911621, 11.644259452819824, 11.644261360168457, 11.644262313842773, 11.64426326751709, 11.64426326751709, 11.644265174865723, 12.002837181091309, 12.002837181091309, 12.00283432006836, 12.002833366394043, 12.002836227416992, 12.002835273742676, 12.002837181091309, 12.002837181091309, 12.002838134765625, 12.002837181091309, 12.002837181091309, 13.23364543914795, 13.23364543914795, 13.233625411987305, 13.233625411987305, 13.233625411987305, 13.233625411987305, 13.233625411987305, 13.233625411987305, 13.233625411987305, 13.233625411987305, 13.246110916137695, 13.246106147766113, 13.246106147766113, 13.246106147766113, 363.1940002441406, 363.19378662109375, 363.1940612792969, 363.1940612792969, 363.19403076171875, 375.7848815917969, 363.19403076171875, 363.1939392089844, 363.1939392089844, 363.19403076171875, 363.1940002441406, 363.1940002441406, 363.1940002441406, 145.17494201660156, 26.58078956604004, 33.56987380981445, 44.353370666503906, 22.786373138427734, 22.786373138427734, 22.786373138427734, 22.786373138427734, 13.900060653686523, 13.900060653686523, 13.900060653686523, 13.900060653686523, 13.900060653686523, 13.900060653686523], \"loglift\": [30.0, 29.0, 28.0, 27.0, 26.0, 25.0, 24.0, 23.0, 22.0, 21.0, 20.0, 19.0, 18.0, 17.0, 16.0, 15.0, 14.0, 13.0, 12.0, 11.0, 10.0, 9.0, 8.0, 7.0, 6.0, 5.0, 4.0, 3.0, 2.0, 1.0, 0.5443000197410583, 0.5443000197410583, 0.5443000197410583, 0.5443000197410583, 0.5443000197410583, 0.5443000197410583, 0.5443000197410583, 0.5443000197410583, 0.5443000197410583, 0.5443000197410583, 0.5443000197410583, 0.5443000197410583, 0.510200023651123, -3.703000068664551, -4.269000053405762, -4.269000053405762, -4.269000053405762, -4.269100189208984, -4.269100189208984, -4.269100189208984, -4.269100189208984, -4.269100189208984, -4.269100189208984, -4.269100189208984, -4.2993998527526855, -4.2993998527526855, -4.2993998527526855, -4.2993998527526855, -4.2993998527526855, -4.2993998527526855, -4.2993998527526855, -4.2993998527526855, -4.2993998527526855, -4.2993998527526855, -4.2993998527526855, -4.439599990844727, -4.439599990844727, -4.396900177001953, -6.792099952697754, -4.532299995422363, -4.532299995422363, -4.532299995422363, -4.532299995422363, -4.532299995422363, -4.532299995422363, -4.532299995422363, -4.532299995422363, -4.532299995422363, -4.532299995422363, 2.561800003051758, 2.557499885559082, 2.5427000522613525, 2.5427000522613525, 2.5427000522613525, 2.5427000522613525, 2.5427000522613525, 2.5427000522613525, 2.5427000522613525, 2.5427000522613525, 2.5427000522613525, 2.4997000694274902, 2.4997000694274902, 2.4997000694274902, 2.4997000694274902, 2.4997000694274902, 2.4997000694274902, 2.4997000694274902, 2.4995999336242676, 2.4995999336242676, 2.4995999336242676, 2.4995999336242676, 2.4995999336242676, 2.4995999336242676, 2.4995999336242676, 2.4995999336242676, 2.4995999336242676, 2.4995999336242676, 2.4995999336242676, 2.4995999336242676, 1.19760000705719, 2.551500082015991, 2.551500082015991, 2.551500082015991, 2.551500082015991, 2.551500082015991, 2.551500082015991, 2.551500082015991, 2.551500082015991, 2.551500082015991, 2.551500082015991, 2.551500082015991, 2.551500082015991, 2.551500082015991, 2.551500082015991, 2.508500099182129, 2.508500099182129, 2.508500099182129, 2.508500099182129, 2.508500099182129, 2.508500099182129, 2.508500099182129, 2.508500099182129, 2.508500099182129, 2.508500099182129, 2.508500099182129, 2.508500099182129, 2.508500099182129, 2.508500099182129, 2.508500099182129, 2.508500099182129, 2.162600040435791, 0.8033000230789185, 2.8290998935699463, 2.8206000328063965, 2.8206000328063965, 2.803999900817871, 2.803999900817871, 2.803999900817871, 2.803999900817871, 2.75600004196167, 2.75600004196167, 2.75600004196167, 2.75600004196167, 2.75600004196167, 2.75600004196167, 2.75600004196167, 2.75600004196167, 2.75600004196167, 2.75600004196167, 2.75600004196167, 2.6675000190734863, 2.537100076675415, 2.2184998989105225, 0.6658999919891357, -2.009399890899658, -2.009399890899658, -2.009399890899658, -2.009399890899658, -2.009399890899658, -2.009399890899658, -2.009399890899658, -2.009399890899658, -2.009399890899658, -2.009399890899658, -2.272599935531616, -2.272599935531616, -2.272599935531616, -2.272599935531616, -2.272599935531616, -2.272700071334839, -2.272700071334839, -2.272700071334839, 2.910599946975708, 2.8698999881744385, 2.8698999881744385, 2.8698999881744385, 2.8698999881744385, 2.8698999881744385, 2.8698999881744385, 2.8698999881744385, 2.8698999881744385, 2.8698999881744385, 2.8698999881744385, 2.8698999881744385, 2.8698999881744385, 2.8698999881744385, 2.8698999881744385, 2.8698999881744385, 2.8698999881744385, 2.8698999881744385, 2.8698999881744385, 2.8698999881744385, 2.8698999881744385, 2.8698999881744385, 2.8698999881744385, 2.8698999881744385, 2.8698999881744385, 2.8698999881744385, 2.8698999881744385, 2.8698999881744385, 1.2128000259399414, 1.0127999782562256, 3.109999895095825, 3.109999895095825, 3.109999895095825, 3.109999895095825, 3.109999895095825, 3.109999895095825, 3.109999895095825, 3.109999895095825, 3.109999895095825, 3.109999895095825, 3.109999895095825, 3.109999895095825, 3.109999895095825, 3.109999895095825, 3.109999895095825, 3.109999895095825, 3.109999895095825, 3.109999895095825, 3.109999895095825, 3.109999895095825, 3.109999895095825, 2.4612998962402344, 2.1898000240325928, -0.19359999895095825, -0.9491000175476074, -1.5151000022888184, -1.5152000188827515, -1.5152000188827515, -1.5152000188827515, -1.5152000188827515, -1.5152000188827515, -1.5152000188827515, -1.5152000188827515, -1.5152000188827515, -1.5152000188827515, -2.8276000022888184, -3.5492000579833984, -1.692199945449829, -2.573899984359741, -1.692199945449829, -1.692199945449829, 3.2571001052856445, 3.2446000576019287, 3.2446000576019287, 3.2446000576019287, 3.208400011062622, 3.208400011062622, 3.208400011062622, 3.208400011062622, 3.208400011062622, 3.208400011062622, 3.208400011062622, 3.208400011062622, 1.9805999994277954, 1.6548000574111938, -0.7408000230789185, -1.3066999912261963, -1.3069000244140625, -1.3069000244140625, -1.3069000244140625, -1.3069000244140625, -1.3069000244140625, -1.3069000244140625, -1.3069000244140625, -1.3069000244140625, -1.3069000244140625, -1.3371000289916992, -1.3371000289916992, -1.3371000289916992, -1.3371000289916992, -1.3372000455856323, -3.112600088119507, -1.9459999799728394, -2.1579999923706055, -1.9460999965667725, -3.34089994430542, -2.6194000244140625, -1.4773999452590942, -1.570099949836731, -2.080699920654297, -2.080699920654297, -2.080699920654297, 3.285599946975708, 3.225600004196167, 3.225600004196167, 3.225600004196167, 3.225600004196167, 3.225600004196167, 3.225600004196167, 3.225600004196167, 3.225600004196167, 3.225600004196167, 3.225600004196167, 3.225600004196167, 3.225600004196167, 3.225600004196167, 3.225600004196167, 0.9657999873161316, -0.7408000230789185, -1.3066999912261963, -1.3066999912261963, -1.3066999912261963, -1.3068000078201294, -1.3068000078201294, -1.3068000078201294, -1.3069000244140625, -1.3069000244140625, -1.3069000244140625, -1.3069000244140625, -1.3371000289916992, -1.3371000289916992, -1.3372000455856323, -3.3405001163482666, -3.477099895477295, -2.0815999507904053, -2.0815999507904053, -2.0815999507904053, -2.081700086593628, -2.081700086593628, -2.081700086593628, -2.081700086593628, -2.081700086593628, 3.3036000728607178, 3.293299913406372, 3.293299913406372, 3.293299913406372, 3.2437000274658203, 3.2437000274658203, 3.2437000274658203, 3.2437000274658203, 3.2437000274658203, 3.2437000274658203, 3.2437000274658203, 3.2437000274658203, 3.2437000274658203, 3.2437000274658203, 2.841900110244751, 2.57069993019104, 1.2095999717712402, -0.9860000014305115, -1.5823999643325806, -1.5823999643325806, -1.5823999643325806, -1.5823999643325806, -1.5823999643325806, -1.5823999643325806, -1.5823999643325806, -1.5823999643325806, -1.5823999643325806, -1.5823999643325806, -1.5823999643325806, -1.6799999475479126, -2.8645999431610107, -1.8151999711990356, -2.61080002784729, -2.889400005340576, -2.6108999252319336, -1.722599983215332, -2.223400115966797, -2.223400115966797, -2.223400115966797, -2.223400115966797, -1.729099988937378, -1.729099988937378, -1.680999994277954, 4.43720006942749, 1.37909996509552, 0.8130999803543091, 0.8130999803543091, 0.8130999803543091, 0.8130999803543091, 0.8130000233650208, 0.8130000233650208, 0.8130000233650208, 0.8130000233650208, 0.8130000233650208, 0.8130000233650208, 0.7827000021934509, 0.7827000021934509, 0.7827000021934509, 0.7827000021934509, 0.7827000021934509, 0.7827000021934509, 0.7827000021934509, 0.7827000021934509, 0.7827000021934509, 0.7827000021934509, 0.7827000021934509, 0.6851999759674072, 0.6851999759674072, 0.6851000189781189, 0.6851000189781189, 0.6851000189781189, 0.6851000189781189, 0.6851000189781189, 0.6851000189781189, 0.6851000189781189, 0.6851000189781189, 0.6841999888420105, 0.6841999888420105, 0.6841999888420105, 0.6841999888420105, -2.6250998973846436, -2.6250998973846436, -2.6250998973846436, -2.625200033187866, -2.625200033187866, -2.6593000888824463, -2.625200033187866, -2.625200033187866, -2.625200033187866, -2.6252999305725098, -2.6252999305725098, -2.6252999305725098, -2.6252999305725098, -1.7098000049591064, -0.01209999993443489, -0.24560000002384186, -0.5242000222206116, 0.14180000126361847, 0.14180000126361847, 0.14180000126361847, 0.14180000126361847, 0.6360999941825867, 0.6360999941825867, 0.6360999941825867, 0.6360999941825867, 0.6360999941825867, 0.6360999941825867], \"logprob\": [30.0, 29.0, 28.0, 27.0, 26.0, 25.0, 24.0, 23.0, 22.0, 21.0, 20.0, 19.0, 18.0, 17.0, 16.0, 15.0, 14.0, 13.0, 12.0, 11.0, 10.0, 9.0, 8.0, 7.0, 6.0, 5.0, 4.0, 3.0, 2.0, 1.0, -2.56850004196167, -2.56850004196167, -2.56850004196167, -2.56850004196167, -2.56850004196167, -2.56850004196167, -2.56850004196167, -2.56850004196167, -2.56850004196167, -2.56850004196167, -2.56850004196167, -2.56850004196167, -2.56850004196167, -10.821999549865723, -10.821900367736816, -10.821900367736816, -10.821900367736816, -10.821999549865723, -10.821999549865723, -10.821999549865723, -10.821999549865723, -10.821999549865723, -10.821999549865723, -10.821999549865723, -10.821999549865723, -10.821999549865723, -10.821999549865723, -10.821999549865723, -10.821999549865723, -10.821999549865723, -10.821999549865723, -10.821999549865723, -10.821999549865723, -10.821999549865723, -10.821999549865723, -10.821900367736816, -10.821900367736816, -10.821900367736816, -10.821900367736816, -10.821900367736816, -10.821900367736816, -10.821900367736816, -10.821900367736816, -10.821900367736816, -10.821900367736816, -10.821900367736816, -10.821900367736816, -10.821900367736816, -10.821900367736816, -2.678499937057495, -2.832200050354004, -3.236299991607666, -3.236299991607666, -3.236299991607666, -3.236299991607666, -3.236299991607666, -3.236299991607666, -3.236299991607666, -3.236299991607666, -3.236299991607666, -3.925299882888794, -3.925299882888794, -3.925299882888794, -3.925299882888794, -3.925299882888794, -3.925299882888794, -3.925299882888794, -3.925299882888794, -3.925299882888794, -3.925299882888794, -3.925299882888794, -3.925299882888794, -3.925299882888794, -3.925299882888794, -3.925299882888794, -3.925299882888794, -3.925299882888794, -3.925299882888794, -3.925299882888794, -2.832200050354004, -3.2265000343322754, -3.2265000343322754, -3.2265000343322754, -3.2265000343322754, -3.2265000343322754, -3.2265000343322754, -3.2265000343322754, -3.2265000343322754, -3.2265000343322754, -3.2265000343322754, -3.2265000343322754, -3.2265000343322754, -3.2265000343322754, -3.2265000343322754, -3.9154999256134033, -3.9154999256134033, -3.9154999256134033, -3.9154999256134033, -3.9154999256134033, -3.9154999256134033, -3.9154999256134033, -3.9154999256134033, -3.9154999256134033, -3.9154999256134033, -3.9154999256134033, -3.9154999256134033, -3.9154999256134033, -3.9154999256134033, -3.9154999256134033, -3.9154999256134033, -3.2265000343322754, -3.2265000343322754, -2.3864998817443848, -2.6735000610351562, -2.6735000610351562, -3.0776000022888184, -3.0776000022888184, -3.0776000022888184, -3.0776000022888184, -3.7665998935699463, -3.7665998935699463, -3.7665998935699463, -3.7665998935699463, -3.7665998935699463, -3.7665998935699463, -3.7665998935699463, -3.7665998935699463, -3.7665998935699463, -3.7665998935699463, -3.7665998935699463, -4.451499938964844, -1.9816999435424805, -2.1637001037597656, -3.3638999462127686, -8.562299728393555, -8.562399864196777, -8.562399864196777, -8.562399864196777, -8.562399864196777, -8.562399864196777, -8.562399864196777, -8.562399864196777, -8.562399864196777, -8.562399864196777, -8.562299728393555, -8.562299728393555, -8.562299728393555, -8.562299728393555, -8.562299728393555, -8.562299728393555, -8.562299728393555, -8.562299728393555, -2.816999912261963, -3.50600004196167, -3.50600004196167, -3.50600004196167, -3.50600004196167, -3.50600004196167, -3.50600004196167, -3.50600004196167, -3.50600004196167, -3.50600004196167, -3.50600004196167, -3.50600004196167, -3.50600004196167, -3.50600004196167, -3.50600004196167, -3.50600004196167, -3.50600004196167, -3.50600004196167, -3.50600004196167, -3.50600004196167, -3.50600004196167, -3.50600004196167, -3.50600004196167, -3.50600004196167, -3.50600004196167, -3.50600004196167, -3.50600004196167, -3.50600004196167, -2.816999912261963, -3.5060999393463135, -3.2723000049591064, -3.2723000049591064, -3.2723000049591064, -3.2723000049591064, -3.2723000049591064, -3.2723000049591064, -3.2723000049591064, -3.2723000049591064, -3.2723000049591064, -3.2723000049591064, -3.2723000049591064, -3.2723000049591064, -3.2723000049591064, -3.2723000049591064, -3.2723000049591064, -3.2723000049591064, -3.2723000049591064, -3.2723000049591064, -3.2723000049591064, -3.2723000049591064, -3.2723000049591064, -2.5833001136779785, -3.2723000049591064, -3.2723000049591064, -8.068099975585938, -8.068099975585938, -8.068099975585938, -8.068099975585938, -8.068099975585938, -8.068099975585938, -8.068099975585938, -8.068099975585938, -8.068099975585938, -8.068099975585938, -8.068099975585938, -8.067899703979492, -8.067999839782715, -8.067999839782715, -8.067999839782715, -8.067999839782715, -8.067999839782715, -1.970900058746338, -2.375, -2.375, -2.375, -3.063999891281128, -3.063999891281128, -3.063999891281128, -3.063999891281128, -3.063999891281128, -3.063999891281128, -3.063999891281128, -3.063999891281128, -3.063999891281128, -2.375, -7.859799861907959, -7.8597002029418945, -7.859799861907959, -7.859799861907959, -7.859799861907959, -7.859799861907959, -7.859799861907959, -7.859799861907959, -7.859799861907959, -7.859799861907959, -7.859799861907959, -7.8597002029418945, -7.8597002029418945, -7.8597002029418945, -7.8597002029418945, -7.859799861907959, -7.859399795532227, -7.859499931335449, -7.859499931335449, -7.859600067138672, -7.8597002029418945, -7.8597002029418945, -7.8597002029418945, -7.8597002029418945, -7.8597002029418945, -7.8597002029418945, -7.8597002029418945, -1.4611999988555908, -3.063999891281128, -3.063999891281128, -3.063999891281128, -3.063999891281128, -3.063999891281128, -3.063999891281128, -3.063999891281128, -3.063999891281128, -3.063999891281128, -3.063999891281128, -3.063999891281128, -3.063999891281128, -3.063999891281128, -3.063999891281128, -3.063999891281128, -7.859799861907959, -7.859600067138672, -7.859600067138672, -7.859600067138672, -7.8597002029418945, -7.8597002029418945, -7.859799861907959, -7.859799861907959, -7.859799861907959, -7.859799861907959, -7.859799861907959, -7.859600067138672, -7.8597002029418945, -7.859799861907959, -7.859300136566162, -7.859300136566162, -7.8597002029418945, -7.8597002029418945, -7.8597002029418945, -7.8597002029418945, -7.8597002029418945, -7.8597002029418945, -7.8597002029418945, -7.8597002029418945, -2.397900104522705, -2.6201999187469482, -2.6201999187469482, -2.6201999187469482, -3.3092000484466553, -3.3092000484466553, -3.3092000484466553, -3.3092000484466553, -3.3092000484466553, -3.3092000484466553, -3.3092000484466553, -3.3092000484466553, -3.3092000484466553, -3.3092000484466553, -2.6201999187469482, -1.8115999698638916, -3.3092000484466553, -8.104999542236328, -8.104999542236328, -8.104999542236328, -8.104999542236328, -8.104999542236328, -8.104999542236328, -8.104999542236328, -8.104999542236328, -8.104999542236328, -8.104999542236328, -8.104999542236328, -8.104999542236328, -8.104999542236328, -8.1048002243042, -8.104900360107422, -8.104900360107422, -8.104900360107422, -8.104999542236328, -8.104999542236328, -8.104999542236328, -8.104999542236328, -8.104999542236328, -8.104999542236328, -8.104999542236328, -8.104999542236328, -8.104999542236328, -0.944100022315979, -5.7399001121521, -5.739799976348877, -5.7399001121521, -5.7399001121521, -5.7399001121521, -5.7399001121521, -5.7399001121521, -5.7399001121521, -5.7399001121521, -5.7399001121521, -5.7399001121521, -5.7399001121521, -5.7399001121521, -5.7399001121521, -5.7399001121521, -5.7399001121521, -5.7399001121521, -5.7399001121521, -5.7399001121521, -5.7399001121521, -5.7399001121521, -5.7399001121521, -5.739699840545654, -5.739699840545654, -5.739799976348877, -5.739799976348877, -5.7399001121521, -5.7399001121521, -5.7399001121521, -5.7399001121521, -5.7399001121521, -5.7399001121521, -5.739799976348877, -5.739799976348877, -5.739799976348877, -5.739799976348877, -5.7378997802734375, -5.7378997802734375, -5.7378997802734375, -5.73799991607666, -5.73799991607666, -5.73799991607666, -5.73799991607666, -5.73799991607666, -5.73799991607666, -5.738100051879883, -5.738100051879883, -5.738100051879883, -5.738100051879883, -5.73960018157959, -5.73960018157959, -5.739699840545654, -5.739699840545654, -5.739699840545654, -5.739699840545654, -5.739699840545654, -5.739699840545654, -5.739699840545654, -5.739699840545654, -5.739699840545654, -5.739699840545654, -5.739699840545654, -5.739699840545654]}, \"token.table\": {\"Topic\": [3, 3, 6, 5, 5, 5, 9, 9, 5, 4, 5, 4, 10, 2, 6, 1, 2, 4, 4, 9, 4, 3, 4, 4, 3, 6, 9, 1, 4, 9, 6, 6, 9, 2, 9, 6, 8, 4, 4, 4, 4, 2, 9, 6, 5, 4, 8, 9, 6, 9, 6, 3, 9, 9, 7, 4, 3, 4, 5, 9, 3, 6, 7, 3, 6, 8, 2, 9, 4, 3, 3, 9, 9, 6, 9, 6, 5, 6, 2, 3, 5, 1, 1, 4, 6, 2, 6, 2, 5, 3, 4, 4, 4, 2, 2, 3, 5, 5, 3, 6, 5, 2, 5, 3, 8, 7, 5, 3, 5, 3, 5, 3, 2, 2, 3, 7, 2, 2, 8, 3, 8, 5, 2, 3, 2, 7, 8, 3, 1, 4, 2, 7, 8, 3, 7, 7, 1, 1, 1, 3, 1, 2, 1, 6, 2, 6, 3, 2, 2, 7, 6, 8, 7, 5, 1, 6, 3, 3, 8, 3, 2, 2, 2, 8, 5, 1, 5, 5, 8, 8, 6, 5, 2, 3, 2, 3, 4, 5, 7, 8, 2, 5, 6, 3, 2, 5, 5, 3, 7, 5, 7, 7, 2, 6, 5, 2, 5, 2, 3, 2, 8, 1, 2, 8], \"Freq\": [0.9059265851974487, 0.9059265851974487, 0.9413273334503174, 0.9352490901947021, 0.9352490901947021, 0.9352495670318604, 0.9446715116500854, 0.9446712732315063, 0.9352496862411499, 0.9532366394996643, 0.9352495670318604, 0.9164499044418335, 0.9845837950706482, 0.9067816734313965, 0.9413262605667114, 0.996712327003479, 0.9505740404129028, 0.9164500832557678, 0.9164499640464783, 0.9530208706855774, 0.9532356262207031, 0.9059262871742249, 0.7563057541847229, 0.9164502024650574, 0.9059265851974487, 0.37507057189941406, 0.6058832406997681, 0.9967125058174133, 0.529157280921936, 0.4605628252029419, 0.9413275718688965, 0.9413275718688965, 0.9446713328361511, 0.9505740404129028, 0.9515523910522461, 0.9413275718688965, 0.9240187406539917, 0.9654893279075623, 0.9164501428604126, 0.969486653804779, 0.9654893279075623, 0.906781017780304, 0.9446712136268616, 0.9413275718688965, 0.9352495670318604, 0.9654893279075623, 0.9876034259796143, 0.9515520930290222, 0.9413274526596069, 0.9446712136268616, 0.9413275718688965, 0.905927300453186, 0.9446703195571899, 0.9446710348129272, 0.9082375168800354, 0.9654893279075623, 0.9059273600578308, 0.7301250696182251, 0.14602501690387726, 0.1235596314072609, 0.22803644835948944, 0.47507596015930176, 0.2660425305366516, 0.9059273600578308, 0.9413275718688965, 0.9240193367004395, 0.9505740404129028, 0.9515525102615356, 0.9164499640464783, 0.9496352672576904, 0.9496352672576904, 0.944670557975769, 0.944670557975769, 0.941327691078186, 0.944670557975769, 0.9413274526596069, 0.9352477192878723, 0.9413275718688965, 0.906781017780304, 0.9496353268623352, 0.9352495670318604, 0.9967125058174133, 0.9967131018638611, 0.9164502620697021, 0.9413275718688965, 0.9067814350128174, 0.9413275718688965, 0.906781017780304, 0.9352495670318604, 0.9059273600578308, 0.9164499640464783, 0.9164499640464783, 0.9164499640464783, 0.9067814350128174, 0.906781017780304, 0.94963538646698, 0.9352477192878723, 0.9352477192878723, 0.9059273600578308, 0.9413274526596069, 0.9352495670318604, 0.9067814350128174, 0.9352495670318604, 0.9496352672576904, 0.9240195155143738, 0.9082375168800354, 0.9352495670318604, 0.94963538646698, 0.9352477192878723, 0.94963538646698, 0.9352477192878723, 0.9059273600578308, 0.9067796468734741, 0.9067796468734741, 0.9059273600578308, 0.9816286563873291, 0.9067814350128174, 0.9505740404129028, 0.9240195155143738, 0.9496351480484009, 0.924019455909729, 0.9352477788925171, 0.9505740404129028, 0.9496352672576904, 0.906781017780304, 0.9794118404388428, 0.924019455909729, 0.9059273600578308, 0.996712327003479, 0.9164499640464783, 0.906781017780304, 0.9794118404388428, 0.9240193963050842, 0.9496353268623352, 0.9082375168800354, 0.9082375168800354, 0.9967125058174133, 0.9967123866081238, 0.9967126846313477, 0.9059273600578308, 0.9967123866081238, 0.9067814350128174, 0.9633170962333679, 0.03459426015615463, 0.9505739808082581, 0.9413275718688965, 0.9496353268623352, 0.966126561164856, 0.906781017780304, 0.9082375168800354, 0.9413275718688965, 0.9240193963050842, 0.9082375168800354, 0.9352495670318604, 0.9967123866081238, 0.9413274526596069, 0.9059273600578308, 0.9496353268623352, 0.924019455909729, 0.9059273600578308, 0.9505739808082581, 0.9067814350128174, 0.906781017780304, 0.924019455909729, 0.9352495670318604, 0.9967125058174133, 0.9352477788925171, 0.9352495670318604, 0.9240195155143738, 0.9240193963050842, 0.9413274526596069, 0.9352495670318604, 0.9505739808082581, 0.9059273600578308, 0.24797667562961578, 0.16531778872013092, 0.11021185666322708, 0.17220602929592133, 0.19975899159908295, 0.09643537551164627, 0.9706642627716064, 0.9352477192878723, 0.9413275718688965, 0.9496352672576904, 0.9505740404129028, 0.9405288696289062, 0.9352495670318604, 0.94963538646698, 0.9082375168800354, 0.9352477788925171, 0.9794118404388428, 0.9082375168800354, 0.906781017780304, 0.9413274526596069, 0.9352477788925171, 0.9067814350128174, 0.9352477192878723, 0.3218265175819397, 0.6436530351638794, 0.906781017780304, 0.9240195155143738, 0.9967126846313477, 0.906781017780304, 0.9240195155143738], \"Term\": [\" aaa\", \" aaa \", \" always superdry\", \" asahibeer\", \" asahibeer jp\", \" aska \", \" aska stagea\", \" askadaisuki\", \" asuka taznel\", \" bf oosaka\", \" d \", \" dx \", \" ed superdry\", \" el fo\", \" g s e qptfdu x\", \" gmpswintonlh \", \" gt gt \", \" gw \", \" happychanyongday\", \" icchy \", \" jonghwan\", \" kgkaoru\", \" logo\", \" m akf\", \" matomame \", \" max superdry\", \" max superdry\", \" missing\", \" mly superdry\", \" mly superdry\", \" music \", \" mysuperdry\", \" nazorironbot \", \" nd\", \" noriradi\", \" papa superdry\", \" peing\", \" per jonari \", \" per jpn \", \" percent\", \" preview\", \" puregymfareham\", \" r v jpbsk gaia \", \" rec\", \" retailexpo \", \" retro\", \" rt\", \" sakana a ika\", \" satoosm \", \" satoruhasegawa \", \" shopandtrade\", \" shoppingblogger \", \" splatoon father\", \" ssudo \", \" statt\", \" still loving you\", \" summerornothing\", \" superdonchan\", \" superdonchan\", \" superdonchan\", \" superdry\", \" superdry\", \" superdry\", \" superdry \", \" superdrygreece\", \" takasimaakihide \", \" thebroadwaybrad \", \" tomi \", \" top percent \", \" tops\", \" tunicstops\", \" tver \", \" tver web \", \" wave \", \" yahoonewstopics \", \"add\", \"akhona\", \"always\", \"anyonehams\", \"applique\", \"appointm \", \"area\", \"around\", \"aska aska \", \"better\", \"bfd\", \"bit\", \"black\", \"book\", \"brings\", \"brussel \", \"brussels\", \"bruxelles\", \"buzzing\", \"changing\", \"charliefrederick \", \"clot \", \"clothing\", \"collection\", \"colour\", \"come\", \"couldn t\", \"countdown\", \"crew\", \"curious\", \"damen\", \"days\", \"denim\", \"directed\", \"duo \", \"elmarie\", \"endless\", \"erin\", \"espadrille\", \"explore\", \"f r\", \"family\", \"fancy\", \"fine \", \"found\", \"genuinely\", \"gets\", \"getting\", \"grey\", \"have \", \"herren\", \"hope\", \"htt \", \"hulton\", \"i m\", \"ina\", \"inkl \", \"isnt\", \"jumper\", \"kapuzenpullis\", \"kapuzenpullover\", \"kearsley\", \"lane\", \"last\", \"latest\", \"lauren\", \"less\", \"little\", \"little\", \"lock\", \"makes\", \"marl\", \"may\", \"men s\", \"modelle\", \"music\", \"nah\", \"neue\", \"on \", \"person \", \"pop\", \"possibilities \", \"raglan\", \"ratio\", \"ready\", \"register\", \"reunited\", \"room \", \"rude\", \"see\", \"seen\", \"shots\", \"show\", \"skdnj\", \"small\", \"spring\", \"stand\", \"student\", \"summer\", \"superdry\", \"superdry\", \"superdry\", \"superdry\", \"superdry\", \"superdry\", \"superdry \", \"supplied\", \"things\", \"this \", \"thursday\", \"truter\", \"two\", \"ultimate\", \"und\", \"v amp a\", \"versand\", \"versch \", \"wallet\", \"wardrobe\", \"waterfront\", \"weeks\", \"werner\", \"women s\", \"women s\", \"worried\", \"wouldnt\", \"years\", \"yesterday\", \"youre\"]}, \"R\": 30, \"lambda.step\": 0.01, \"plot.opts\": {\"xlab\": \"PC1\", \"ylab\": \"PC2\"}, \"topic.order\": [4, 8, 2, 3, 5, 1, 9, 10, 7, 6]};\n",
              "\n",
              "function LDAvis_load_lib(url, callback){\n",
              "  var s = document.createElement('script');\n",
              "  s.src = url;\n",
              "  s.async = true;\n",
              "  s.onreadystatechange = s.onload = callback;\n",
              "  s.onerror = function(){console.warn(\"failed to load library \" + url);};\n",
              "  document.getElementsByTagName(\"head\")[0].appendChild(s);\n",
              "}\n",
              "\n",
              "if(typeof(LDAvis) !== \"undefined\"){\n",
              "   // already loaded: just create the visualization\n",
              "   !function(LDAvis){\n",
              "       new LDAvis(\"#\" + \"ldavis_el1311405787763319922921210238\", ldavis_el1311405787763319922921210238_data);\n",
              "   }(LDAvis);\n",
              "}else if(typeof define === \"function\" && define.amd){\n",
              "   // require.js is available: use it to load d3/LDAvis\n",
              "   require.config({paths: {d3: \"https://cdnjs.cloudflare.com/ajax/libs/d3/3.5.5/d3.min\"}});\n",
              "   require([\"d3\"], function(d3){\n",
              "      window.d3 = d3;\n",
              "      LDAvis_load_lib(\"https://cdn.rawgit.com/bmabey/pyLDAvis/files/ldavis.v1.0.0.js\", function(){\n",
              "        new LDAvis(\"#\" + \"ldavis_el1311405787763319922921210238\", ldavis_el1311405787763319922921210238_data);\n",
              "      });\n",
              "    });\n",
              "}else{\n",
              "    // require.js not available: dynamically load d3 & LDAvis\n",
              "    LDAvis_load_lib(\"https://cdnjs.cloudflare.com/ajax/libs/d3/3.5.5/d3.min.js\", function(){\n",
              "         LDAvis_load_lib(\"https://cdn.rawgit.com/bmabey/pyLDAvis/files/ldavis.v1.0.0.js\", function(){\n",
              "                 new LDAvis(\"#\" + \"ldavis_el1311405787763319922921210238\", ldavis_el1311405787763319922921210238_data);\n",
              "            })\n",
              "         });\n",
              "}\n",
              "</script>"
            ],
            "text/plain": [
              "PreparedData(topic_coordinates=              x         y  topics  cluster       Freq\n",
              "topic                                                \n",
              "3     -0.457599  0.001329       1        1  57.845573\n",
              "7      0.090732 -0.152855       2        1   7.516902\n",
              "1      0.063454 -0.170090       3        1   7.451070\n",
              "2      0.104176  0.276910       4        1   5.756442\n",
              "4      0.112233  0.005981       5        1   5.216321\n",
              "0     -0.125331 -0.015864       6        1   4.100113\n",
              "8      0.068531 -0.130460       7        1   3.753354\n",
              "9      0.065966 -0.098421       8        1   3.683731\n",
              "6      0.033739  0.319014       9        1   3.522416\n",
              "5      0.044099 -0.035543      10        1   1.154076, topic_info=    Category        Freq               Term       Total  loglift  logprob\n",
              "11   Default  375.000000             little  375.000000  30.0000  30.0000\n",
              "104  Default  102.000000       mly superdry  102.000000  29.0000  29.0000\n",
              "145  Default   70.000000                 rt   70.000000  28.0000  28.0000\n",
              "89   Default   89.000000       superdonchan   89.000000  27.0000  27.0000\n",
              "26   Default  145.000000           superdry  145.000000  26.0000  26.0000\n",
              "31   Default   37.000000        ed superdry   37.000000  25.0000  25.0000\n",
              "4    Default  363.000000               area  363.000000  24.0000  24.0000\n",
              "5    Default  363.000000             around  363.000000  23.0000  23.0000\n",
              "2    Default  363.000000      gmpswintonlh   363.000000  22.0000  22.0000\n",
              "6    Default  363.000000             hulton  363.000000  21.0000  21.0000\n",
              "8    Default  363.000000               lane  363.000000  20.0000  20.0000\n",
              "10   Default  363.000000             lauren  363.000000  19.0000  19.0000\n",
              "9    Default  363.000000               last  363.000000  18.0000  18.0000\n",
              "14   Default  363.000000              years  363.000000  17.0000  17.0000\n",
              "12   Default  363.000000            person   363.000000  16.0000  16.0000\n",
              "13   Default  363.000000               seen  363.000000  15.0000  15.0000\n",
              "7    Default  363.000000           kearsley  363.000000  14.0000  14.0000\n",
              "3    Default  363.000000            missing  363.000000  13.0000  13.0000\n",
              "117  Default   43.000000                f r   43.000000  12.0000  12.0000\n",
              "29   Default   44.000000            percent   44.000000  11.0000  11.0000\n",
              "33   Default   52.000000           superdry   52.000000  10.0000  10.0000\n",
              "1    Default   43.000000          superdry    43.000000   9.0000   9.0000\n",
              "122  Default   29.000000            versand   29.000000   8.0000   8.0000\n",
              "119  Default   29.000000              inkl    29.000000   7.0000   7.0000\n",
              "118  Default   29.000000             herren   29.000000   6.0000   6.0000\n",
              "88   Default   33.000000          bf oosaka   33.000000   5.0000   5.0000\n",
              "81   Default   33.000000           jonghwan   33.000000   4.0000   4.0000\n",
              "163  Default   34.000000       max superdry   34.000000   3.0000   3.0000\n",
              "112  Default   37.000000                may   37.000000   2.0000   2.0000\n",
              "66   Default   27.000000             icchy    27.000000   1.0000   1.0000\n",
              "..       ...         ...                ...         ...      ...      ...\n",
              "160  Topic10    0.303017          matomame    13.246106   0.6842  -5.7398\n",
              "159  Topic10    0.303017               aaa    13.246106   0.6842  -5.7398\n",
              "158  Topic10    0.303017                aaa   13.246106   0.6842  -5.7398\n",
              "4    Topic10    0.303605               area  363.194000  -2.6251  -5.7379\n",
              "5    Topic10    0.303600             around  363.193787  -2.6251  -5.7379\n",
              "2    Topic10    0.303594      gmpswintonlh   363.194061  -2.6251  -5.7379\n",
              "6    Topic10    0.303577             hulton  363.194061  -2.6252  -5.7380\n",
              "8    Topic10    0.303574               lane  363.194031  -2.6252  -5.7380\n",
              "11   Topic10    0.303569             little  375.784882  -2.6593  -5.7380\n",
              "10   Topic10    0.303566             lauren  363.194031  -2.6252  -5.7380\n",
              "9    Topic10    0.303563               last  363.193939  -2.6252  -5.7380\n",
              "14   Topic10    0.303561              years  363.193939  -2.6252  -5.7380\n",
              "12   Topic10    0.303551            person   363.194031  -2.6253  -5.7381\n",
              "13   Topic10    0.303540               seen  363.194000  -2.6253  -5.7381\n",
              "7    Topic10    0.303536           kearsley  363.194000  -2.6253  -5.7381\n",
              "3    Topic10    0.303530            missing  363.194000  -2.6253  -5.7381\n",
              "26   Topic10    0.303095           superdry  145.174942  -1.7098  -5.7396\n",
              "50   Topic10    0.303086             truter   26.580790  -0.0121  -5.7396\n",
              "81   Topic10    0.303052           jonghwan   33.569874  -0.2456  -5.7397\n",
              "29   Topic10    0.303052            percent   44.353371  -0.5242  -5.7397\n",
              "85   Topic10    0.303046   still loving you   22.786373   0.1418  -5.7397\n",
              "84   Topic10    0.303046              retro   22.786373   0.1418  -5.7397\n",
              "82   Topic10    0.303046        per jonari    22.786373   0.1418  -5.7397\n",
              "83   Topic10    0.303046            preview   22.786373   0.1418  -5.7397\n",
              "45   Topic10    0.303043           directed   13.900061   0.6361  -5.7397\n",
              "46   Topic10    0.303043            elmarie   13.900061   0.6361  -5.7397\n",
              "53   Topic10    0.303043             werner   13.900061   0.6361  -5.7397\n",
              "44   Topic10    0.303043           clothing   13.900061   0.6361  -5.7397\n",
              "43   Topic10    0.303043              clot    13.900061   0.6361  -5.7397\n",
              "42   Topic10    0.303043             akhona   13.900061   0.6361  -5.7397\n",
              "\n",
              "[441 rows x 6 columns], token_table=      Topic      Freq               Term\n",
              "term                                    \n",
              "158       3  0.905927                aaa\n",
              "159       3  0.905927               aaa \n",
              "173       6  0.941327    always superdry\n",
              "127       5  0.935249          asahibeer\n",
              "128       5  0.935249       asahibeer jp\n",
              "174       5  0.935250              aska \n",
              "175       9  0.944672        aska stagea\n",
              "182       9  0.944671        askadaisuki\n",
              "126       5  0.935250       asuka taznel\n",
              "88        4  0.953237          bf oosaka\n",
              "69        5  0.935250                 d \n",
              "171       4  0.916450                dx \n",
              "31       10  0.984584        ed superdry\n",
              "189       2  0.906782              el fo\n",
              "105       6  0.941326     g s e qptfdu x\n",
              "2         1  0.996712      gmpswintonlh \n",
              "106       2  0.950574             gt gt \n",
              "103       4  0.916450                gw \n",
              "86        4  0.916450   happychanyongday\n",
              "66        9  0.953021             icchy \n",
              "81        4  0.953236           jonghwan\n",
              "187       3  0.905926            kgkaoru\n",
              "190       4  0.756306               logo\n",
              "165       4  0.916450              m akf\n",
              "160       3  0.905927          matomame \n",
              "163       6  0.375071       max superdry\n",
              "163       9  0.605883       max superdry\n",
              "3         1  0.996713            missing\n",
              "104       4  0.529157       mly superdry\n",
              "104       9  0.460563       mly superdry\n",
              "...     ...       ...                ...\n",
              "26        2  0.247977           superdry\n",
              "26        3  0.165318           superdry\n",
              "26        4  0.110212           superdry\n",
              "26        5  0.172206           superdry\n",
              "26        7  0.199759           superdry\n",
              "26        8  0.096435           superdry\n",
              "1         2  0.970664          superdry \n",
              "49        5  0.935248           supplied\n",
              "139       6  0.941328             things\n",
              "101       3  0.949635              this \n",
              "115       2  0.950574           thursday\n",
              "50        5  0.940529             truter\n",
              "80        5  0.935250                two\n",
              "19        3  0.949635           ultimate\n",
              "169       7  0.908238                und\n",
              "51        5  0.935248            v amp a\n",
              "122       7  0.979412            versand\n",
              "170       7  0.908238            versch \n",
              "155       2  0.906781             wallet\n",
              "144       6  0.941327           wardrobe\n",
              "52        5  0.935248         waterfront\n",
              "27        2  0.906781              weeks\n",
              "53        5  0.935248             werner\n",
              "102       2  0.321827            women s\n",
              "102       3  0.643653            women s\n",
              "156       2  0.906781            worried\n",
              "64        8  0.924020            wouldnt\n",
              "14        1  0.996713              years\n",
              "157       2  0.906781          yesterday\n",
              "65        8  0.924020              youre\n",
              "\n",
              "[204 rows x 3 columns], R=30, lambda_step=0.01, plot_opts={'xlab': 'PC1', 'ylab': 'PC2'}, topic_order=[4, 8, 2, 3, 5, 1, 9, 10, 7, 6])"
            ]
          },
          "metadata": {
            "tags": []
          },
          "execution_count": 19
        }
      ]
    },
    {
      "metadata": {
        "id": "B-M9zrtLxk7q",
        "colab_type": "code",
        "colab": {}
      },
      "cell_type": "code",
      "source": [
        ""
      ],
      "execution_count": 0,
      "outputs": []
    }
  ]
}